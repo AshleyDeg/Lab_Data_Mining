{
 "cells": [
  {
   "cell_type": "code",
   "execution_count": 1,
   "id": "0805ec4a",
   "metadata": {
    "id": "0805ec4a"
   },
   "outputs": [],
   "source": [
    "import os\n",
    "import sys\n",
    "sys.path.append('..')\n",
    "\n",
    "import lzma\n",
    "import json\n",
    "\n",
    "import pandas as pd\n",
    "import numpy as np\n",
    "import matplotlib.pyplot as plt\n",
    "import seaborn as se\n",
    "se.set_style('white')\n",
    "se.set_context('poster')\n",
    "\n",
    "import pyquery\n",
    "from ipywidgets import FloatProgress\n",
    "from IPython.display import display\n",
    "\n",
    "from config import settings\n",
    "import utils\n",
    "import requests\n",
    "import re\n",
    "import matplotlib.pyplot as plt\n",
    "import seaborn as sns\n",
    "\n",
    "%matplotlib inline\n",
    "\n",
    "\n",
    "import string\n",
    "import random\n",
    "import time\n",
    "import binascii "
   ]
  },
  {
   "cell_type": "code",
   "execution_count": 2,
   "id": "0e6b51c2",
   "metadata": {
    "id": "0e6b51c2",
    "outputId": "f47c9027-9d4d-43bf-cb73-f3563aad858b"
   },
   "outputs": [
    {
     "name": "stdout",
     "output_type": "stream",
     "text": [
      "\u001b[35mdownloading New Mexico-20200302-text.zip into ../data dir\u001b[0m\n"
     ]
    },
    {
     "name": "stderr",
     "output_type": "stream",
     "text": [
      "66568it [00:19, 3404.29it/s]"
     ]
    },
    {
     "name": "stdout",
     "output_type": "stream",
     "text": [
      "\u001b[35mextracting New Mexico-20200302-text.zip into ../data dir\u001b[0m\n",
      "\u001b[35mDone.\u001b[0m\n"
     ]
    },
    {
     "name": "stderr",
     "output_type": "stream",
     "text": [
      "\n"
     ]
    }
   ],
   "source": [
    "cases_format=\"json\"\n",
    "#else \"xml\"\n",
    "#cases_format=\"xml\"\n",
    "compressed_file = utils.get_cases_from_bulk(jurisdiction=\"New Mexico\", data_format=cases_format)"
   ]
  },
  {
   "cell_type": "code",
   "execution_count": 4,
   "id": "f6083da4",
   "metadata": {
    "id": "f6083da4",
    "outputId": "e66921d2-43ca-4030-bdb2-1bfbc1bc7413"
   },
   "outputs": [
    {
     "name": "stdout",
     "output_type": "stream",
     "text": [
      "Selected jurisdiction: New Mexico\n",
      "Number of Cases:  18338\n"
     ]
    }
   ],
   "source": [
    "#a list to hold the cases we're sampling\n",
    "cases = []\n",
    "\n",
    "#decompress the file line by line\n",
    "with lzma.open(compressed_file) as infile:\n",
    "    for line in infile:\n",
    "        #decode the file into a convenient format\n",
    "        record = json.loads(str(line, 'utf-8'))\n",
    "        #if the decision date on the case matches one we're interested in, add to our list\n",
    "        cases.append(record)\n",
    "\n",
    "print(\"Selected jurisdiction: New Mexico\")\n",
    "print(\"Number of Cases: \", len(cases))"
   ]
  },
  {
   "cell_type": "code",
   "execution_count": 5,
   "id": "b720c940",
   "metadata": {
    "id": "b720c940"
   },
   "outputs": [],
   "source": [
    "def parse_json(case):\n",
    "    feat_dict = {}\n",
    "    feat_dict[\"case_id\"] = case['id']\n",
    "    #feat_dict[\"case_url\"] = case['url']\n",
    "    feat_dict[\"case_name\"] = case['name']\n",
    "    feat_dict[\"case_name_abbreviation\"] = case['name_abbreviation']\n",
    "    feat_dict[\"date\"] = case['decision_date']\n",
    "    feat_dict[\"year\"] = int(case['decision_date'][:4])\n",
    "    feat_dict[\"citations\"] = [citation for citation in case['citations'] if citation['type'] == 'official'][0]\n",
    "    #feat_dict[\"volume\"] = case['volume']\n",
    "    feat_dict[\"court\"] = case['court']['name']\n",
    "    feat_dict[\"opinion_count\"] = len(case['casebody']['data']['opinions'])\n",
    "    feat_dict[\"jurisdiction\"] = case['jurisdiction']#['name_long']\n",
    "    #feat_dict[\"name\"] = case['jurisdiction']['name']\n",
    "    feat_dict[\"judges\"]=case[\"casebody\"][\"data\"][\"judges\"]\n",
    "    feat_dict[\"attorneys\"]=case[\"casebody\"][\"data\"][\"attorneys\"]\n",
    "    feat_dict[\"author\"]=case[\"casebody\"][\"data\"][\"opinions\"][0][\"author\"]\n",
    "\n",
    "    #Main text: opinions\n",
    "    feat_dict[\"opinion\"]=case[\"casebody\"][\"data\"][\"opinions\"][0][\"text\"]\n",
    "\n",
    "    return feat_dict"
   ]
  },
  {
   "cell_type": "code",
   "execution_count": 6,
   "id": "baf871c5",
   "metadata": {
    "colab": {
     "referenced_widgets": [
      "92cbe005c40f421cb3cc11bfb744f31e"
     ]
    },
    "id": "baf871c5",
    "outputId": "67e44d53-d6f4-4161-a763-931bfc62e69a"
   },
   "outputs": [
    {
     "data": {
      "application/vnd.jupyter.widget-view+json": {
       "model_id": "ba7bab84ea9f45f1a632378b58a050f4",
       "version_major": 2,
       "version_minor": 0
      },
      "text/plain": [
       "FloatProgress(value=0.0, max=18338.0)"
      ]
     },
     "metadata": {},
     "output_type": "display_data"
    },
    {
     "name": "stderr",
     "output_type": "stream",
     "text": [
      "IOPub message rate exceeded.\n",
      "The notebook server will temporarily stop sending output\n",
      "to the client in order to avoid crashing it.\n",
      "To change this limit, set the config variable\n",
      "`--NotebookApp.iopub_msg_rate_limit`.\n",
      "\n",
      "Current values:\n",
      "NotebookApp.iopub_msg_rate_limit=1000.0 (msgs/sec)\n",
      "NotebookApp.rate_limit_window=3.0 (secs)\n",
      "\n"
     ]
    }
   ],
   "source": [
    "#Add progress bar\n",
    "bar = FloatProgress(min=0, max=len(cases))\n",
    "display(bar)\n",
    "\n",
    "#For each file, parse with parse_xml() and add to list of parsed files\n",
    "parsed_files = []\n",
    "for case in cases:\n",
    "    doc = parse_json(case) #json\n",
    "    #doc = ET_parse_xml(case) #xml\n",
    "    parsed_files.append(doc)\n",
    "    bar.value += 1"
   ]
  },
  {
   "cell_type": "code",
   "execution_count": 7,
   "id": "5b8ef243",
   "metadata": {},
   "outputs": [],
   "source": [
    "raw_df = pd.DataFrame(parsed_files)\n",
    "#raw_df.head()"
   ]
  },
  {
   "cell_type": "markdown",
   "id": "d3bac89f",
   "metadata": {
    "id": "d3bac89f"
   },
   "source": [
    "# Extract documents by an author"
   ]
  },
  {
   "cell_type": "markdown",
   "id": "41414c07",
   "metadata": {},
   "source": [
    "## Shingling: *shingles and hashing shingles*"
   ]
  },
  {
   "cell_type": "markdown",
   "id": "0e4b5352",
   "metadata": {},
   "source": [
    "N-gram for a selected author (or all cases). \n",
    "\n",
    "Shingling: convert documents to sets. \n",
    "Shingle function: clean and split each text file into a set of K-shingles"
   ]
  },
  {
   "cell_type": "code",
   "execution_count": 9,
   "id": "188a40d2",
   "metadata": {},
   "outputs": [
    {
     "name": "stderr",
     "output_type": "stream",
     "text": [
      "[nltk_data] Downloading package stopwords to\n",
      "[nltk_data]     /Users/ashleydeglinnocenti/nltk_data...\n",
      "[nltk_data]   Package stopwords is already up-to-date!\n",
      "[nltk_data] Downloading package punkt to\n",
      "[nltk_data]     /Users/ashleydeglinnocenti/nltk_data...\n",
      "[nltk_data]   Package punkt is already up-to-date!\n",
      "[nltk_data] Downloading package wordnet to\n",
      "[nltk_data]     /Users/ashleydeglinnocenti/nltk_data...\n",
      "[nltk_data]   Package wordnet is already up-to-date!\n"
     ]
    }
   ],
   "source": [
    "#pre-processing\n",
    "import nltk\n",
    "from nltk.corpus import stopwords\n",
    "import string\n",
    "import re\n",
    "\n",
    "# Download the necessary resources\n",
    "nltk.download('stopwords')\n",
    "nltk.download('punkt')\n",
    "nltk.download('wordnet')\n",
    "\n",
    "\n",
    "def pre_process(text):\n",
    "    # Lowercase\n",
    "    lower_text = text.lower()\n",
    "    # Remove numbers\n",
    "    remove_numbers = re.sub(r'\\d+', '', lower_text)\n",
    "    # Remove punctuation\n",
    "    remove_hyphen = remove_numbers.replace('-', '')\n",
    "    remove_symbol = remove_hyphen.replace('¶', '')    \n",
    "    remove_symbol1 = remove_symbol.replace('§', '')\n",
    "    remove_apostrophes = remove_symbol1.replace(\"’\", '')    \n",
    "    remove_apostrophes1 = remove_apostrophes.replace('“', '')\n",
    "    remove_apostrophes2 = remove_apostrophes1.replace('”', '')\n",
    "    remove_punctuation = remove_apostrophes2.translate(str.maketrans(\"\", \"\", string.punctuation))\n",
    "    # Remove stopwords\n",
    "    #for word in stopwords.words(\"english\"):\n",
    "    #    remove_punctuation = remove_punctuation.replace(' '+word+' ', ' ')\n",
    "    # split text into words\n",
    "    remove_punctuation = re.sub(\"[^\\w]\", \" \", remove_punctuation).split()\n",
    "    return remove_punctuation"
   ]
  },
  {
   "cell_type": "code",
   "execution_count": 10,
   "id": "c28966c2",
   "metadata": {},
   "outputs": [],
   "source": [
    "authors_cases_dict = {}\n",
    "\n",
    "\n",
    "for index, row in raw_df.iterrows():\n",
    "    case_id = row['case_id']\n",
    "    author = row['author']\n",
    "    if row['author'] and \"curiam\" not in row['author']:\n",
    "        author = row['author']\n",
    "        author = [a.strip() for a in author.split(',')][0]\n",
    "        author = [a.strip() for a in author.split('.')][0]\n",
    "        author = [a.strip() for a in author.split(';')][0]\n",
    "        author = author.upper()\n",
    "        if \"curiam\" in author.lower():\n",
    "            author = 'PER CURIAM'\n",
    "\n",
    "    if author in authors_cases_dict:\n",
    "        authors_cases_dict[author].append(case_id)\n",
    "    else:\n",
    "        authors_cases_dict[author] = [case_id]\n",
    "\n",
    "show_dict=False       \n",
    "if show_dict:\n",
    "    for author, case_id in authors_cases_dict.items():\n",
    "        print(f\"Number of Cases: {len(case_id)}\")\n",
    "        print(f\"Author: {author}\")\n",
    "        print(f\"Case IDs: {case_id}\")\n",
    "        print()"
   ]
  },
  {
   "cell_type": "code",
   "execution_count": 9,
   "id": "26a5b26b",
   "metadata": {},
   "outputs": [],
   "source": [
    "#print(authors_cases_dict[None])"
   ]
  },
  {
   "cell_type": "code",
   "execution_count": 11,
   "id": "3f76ccb9",
   "metadata": {},
   "outputs": [
    {
     "name": "stdout",
     "output_type": "stream",
     "text": [
      "Cases by judge WOOD: 933\n",
      "Average words in an opinion by judge WOOD: 1699\n"
     ]
    }
   ],
   "source": [
    "#ALL cases or a selected author: \n",
    "\n",
    "author_dict={}\n",
    "sum_words=0 \n",
    "\n",
    "#all_cases = True\n",
    "all_cases = False \n",
    "\n",
    "\n",
    "if all_cases: \n",
    "    num_cases=len(cases)\n",
    "    \n",
    "    #Add progress bar\n",
    "    bar = FloatProgress(min=0, max=len(cases))\n",
    "    display(bar)\n",
    "    \n",
    "    #creates a dictionary (key, value) = (case id, opinion) for all the cases\n",
    "    for _, row in raw_df.iterrows():\n",
    "        case = row['case_id']\n",
    "        for opinion in raw_df[raw_df[\"case_id\"] == case][\"opinion\"]:\n",
    "            sum_words += len(opinion.split())\n",
    "            author_dict[case]=pre_process(opinion)\n",
    "        bar.value += 1\n",
    "    avg_words = sum_words//num_cases\n",
    "    print(f'Number of cases: {num_cases}')\n",
    "    print(f'Average words in an opinion: {avg_words}')\n",
    "else: \n",
    "    #some prolific authors are SUTIN, WOOD, MINZNER, HENDLEY, COMPTON, PER CURIAM, None \n",
    "    author_ngram=\"WOOD\"\n",
    "    num_cases=len(authors_cases_dict[author_ngram])\n",
    "    \n",
    "    #creates a dictionary (key, value) = (case id, opinion) for the selected author  \n",
    "\n",
    "    for case in authors_cases_dict[author_ngram]:\n",
    "        for opinion in raw_df[raw_df[\"case_id\"] == case][\"opinion\"]:\n",
    "            sum_words += len(opinion.split())\n",
    "            author_dict[case]=pre_process(opinion)\n",
    "    avg_words = sum_words//num_cases\n",
    "    print(f'Cases by judge {author_ngram}: {num_cases}')\n",
    "    print(f'Average words in an opinion by judge {author_ngram}: {avg_words}')\n",
    "\n"
   ]
  },
  {
   "cell_type": "code",
   "execution_count": 12,
   "id": "76831a65",
   "metadata": {},
   "outputs": [
    {
     "name": "stdout",
     "output_type": "stream",
     "text": [
      "\u001b[1mOpinion before pre-processing:\u001b[0m\n",
      "['OPINION\\nWOOD, Chief Judge.\\nDefendant shoplifted a combination radio and tape deck. He was convicted of shoplifting merchandise valued at more than $100.00 but not more than $2,500.00. Defendant challenges both the evidence and the instruction concerning value.\\nThe evidence is that the retail price of the merchandise was $119.97 and the wholesale price was $84.97. If the retail price is sufficient evidence of value, the crime was a fourth degree felony. If the wholesale price is the value evidence to be considered, the crime is a petty misdemean- or. Section 40A-16-20(B), N.M.S.A.1953 (2d Repl.Vol. 6).\\nOur property crime statutes do not state how value is to be determined. As examples, see §§ 40A-16-1, 40A-16-6, 40A-16-7, 40A-16-11, N.M.S.A.1953 (2d Repl.Vol. 6). The decisions have used the term “market value” as the test. See State v. Gallegos, 63 N.M. 57, 312 P.2d 1067 (1957) and committee commentary to U.J.I.Crim. 16.01. The trial court instructed the jury that “value” was to be determined by “market value”, however the instruction informed the jury that value meant the “retail market value”. Defendant contends that the retail price was not evidence of market value and that the instruction erred in stating market value was the retail market value.\\nPeople v. Tijerina, 1 Cal.3d 41, 81 Cal.Rptr. 264, 459 P.2d 680 (1969) states:\\n“In the absence of proof, however, that the price charged by a retail store from which merchandise is stolen does not accurately reflect the value of the merchandise in the retail market, that price is sufficient to establish the [reasonable and fair market] value of the merchandise * * *.”\\nPeople v. Irrizari, 5 N.Y.2d 142, 182 N. Y.S.2d 361, 156 N.E.2d 69 (1959) states:\\n“ * * * [M]arket value * * * denotes not the value of the goods in the market in which the owner had purchased them or in which he could replace them, but the value in the market in which the goods were being traded, namely, the price at which they would probably have been sold in the regular course of business at the time when and place where they were stolen.”\\nThere was no evidence that the retail price did not accurately reflect the value of the merchandise on the retail markét. The evidence of the retail price was sufficient for the jury to determine there was a market value of more than $100.00. The trial court did not err in instructing that value was to be determined by the retail market price.\\nOral argument is unnecessary. The judgment and sentence are affirmed.\\nIt is so ordered.\\nHENDLEY and HERNANDEZ, JJ., concur.']\n",
      "\n",
      "\u001b[1mOpinion after pre-processing\u001b[0m:\n",
      "Case ID:  2868431 \n",
      " ['opinion', 'wood', 'chief', 'judge', 'defendant', 'shoplifted', 'a', 'combination', 'radio', 'and', 'tape', 'deck', 'he', 'was', 'convicted', 'of', 'shoplifting', 'merchandise', 'valued', 'at', 'more', 'than', 'but', 'not', 'more', 'than', 'defendant', 'challenges', 'both', 'the', 'evidence', 'and', 'the', 'instruction', 'concerning', 'value', 'the', 'evidence', 'is', 'that', 'the', 'retail', 'price', 'of', 'the', 'merchandise', 'was', 'and', 'the', 'wholesale', 'price', 'was', 'if', 'the', 'retail', 'price', 'is', 'sufficient', 'evidence', 'of', 'value', 'the', 'crime', 'was', 'a', 'fourth', 'degree', 'felony', 'if', 'the', 'wholesale', 'price', 'is', 'the', 'value', 'evidence', 'to', 'be', 'considered', 'the', 'crime', 'is', 'a', 'petty', 'misdemean', 'or', 'section', 'ab', 'nmsa', 'd', 'replvol', 'our', 'property', 'crime', 'statutes', 'do', 'not', 'state', 'how', 'value', 'is', 'to', 'be', 'determined', 'as', 'examples', 'see', 'a', 'a', 'a', 'a', 'nmsa', 'd', 'replvol', 'the', 'decisions', 'have', 'used', 'the', 'term', 'market', 'value', 'as', 'the', 'test', 'see', 'state', 'v', 'gallegos', 'nm', 'pd', 'and', 'committee', 'commentary', 'to', 'ujicrim', 'the', 'trial', 'court', 'instructed', 'the', 'jury', 'that', 'value', 'was', 'to', 'be', 'determined', 'by', 'market', 'value', 'however', 'the', 'instruction', 'informed', 'the', 'jury', 'that', 'value', 'meant', 'the', 'retail', 'market', 'value', 'defendant', 'contends', 'that', 'the', 'retail', 'price', 'was', 'not', 'evidence', 'of', 'market', 'value', 'and', 'that', 'the', 'instruction', 'erred', 'in', 'stating', 'market', 'value', 'was', 'the', 'retail', 'market', 'value', 'people', 'v', 'tijerina', 'cald', 'calrptr', 'pd', 'states', 'in', 'the', 'absence', 'of', 'proof', 'however', 'that', 'the', 'price', 'charged', 'by', 'a', 'retail', 'store', 'from', 'which', 'merchandise', 'is', 'stolen', 'does', 'not', 'accurately', 'reflect', 'the', 'value', 'of', 'the', 'merchandise', 'in', 'the', 'retail', 'market', 'that', 'price', 'is', 'sufficient', 'to', 'establish', 'the', 'reasonable', 'and', 'fair', 'market', 'value', 'of', 'the', 'merchandise', 'people', 'v', 'irrizari', 'nyd', 'n', 'ysd', 'ned', 'states', 'market', 'value', 'denotes', 'not', 'the', 'value', 'of', 'the', 'goods', 'in', 'the', 'market', 'in', 'which', 'the', 'owner', 'had', 'purchased', 'them', 'or', 'in', 'which', 'he', 'could', 'replace', 'them', 'but', 'the', 'value', 'in', 'the', 'market', 'in', 'which', 'the', 'goods', 'were', 'being', 'traded', 'namely', 'the', 'price', 'at', 'which', 'they', 'would', 'probably', 'have', 'been', 'sold', 'in', 'the', 'regular', 'course', 'of', 'business', 'at', 'the', 'time', 'when', 'and', 'place', 'where', 'they', 'were', 'stolen', 'there', 'was', 'no', 'evidence', 'that', 'the', 'retail', 'price', 'did', 'not', 'accurately', 'reflect', 'the', 'value', 'of', 'the', 'merchandise', 'on', 'the', 'retail', 'markét', 'the', 'evidence', 'of', 'the', 'retail', 'price', 'was', 'sufficient', 'for', 'the', 'jury', 'to', 'determine', 'there', 'was', 'a', 'market', 'value', 'of', 'more', 'than', 'the', 'trial', 'court', 'did', 'not', 'err', 'in', 'instructing', 'that', 'value', 'was', 'to', 'be', 'determined', 'by', 'the', 'retail', 'market', 'price', 'oral', 'argument', 'is', 'unnecessary', 'the', 'judgment', 'and', 'sentence', 'are', 'affirmed', 'it', 'is', 'so', 'ordered', 'hendley', 'and', 'hernandez', 'jj', 'concur']\n"
     ]
    }
   ],
   "source": [
    "#example of a random case after pre-processing \n",
    "import random\n",
    "sample_ID, sample_opinion = random.choice(list(author_dict.items()))\n",
    "\n",
    "opinion1 = list(raw_df[raw_df['case_id'] == sample_ID]['opinion'])\n",
    "\n",
    "print(\"\\033[1m\" + \"Opinion before pre-processing:\" + \"\\033[0m\")\n",
    "print(opinion1)\n",
    "\n",
    "print(\"\\n\\033[1mOpinion after pre-processing\\033[0m:\")\n",
    "print('Case ID: ', sample_ID, '\\n', sample_opinion)\n",
    "#print('Case ID: ', sample_ID, '\\n', sample_opinion[:20], '\\n... ETC ...')"
   ]
  },
  {
   "cell_type": "markdown",
   "id": "62202a56",
   "metadata": {},
   "source": [
    "# Shingling "
   ]
  },
  {
   "cell_type": "markdown",
   "id": "bb136d92",
   "metadata": {},
   "source": [
    "Convert documents to sets of shingles. This is a way to account for ordering of words in a document. For this application we consider words as tokens.  \n",
    "\n",
    "We use a hash function (CRC32) that maps the string to a bucket number of 2^32. The CRC32 (Cyclic Redundancy Check 32-bit) algorithm is a widely used hashing algorithm that produces a 32-bit hash value from an input string. "
   ]
  },
  {
   "cell_type": "code",
   "execution_count": 13,
   "id": "7c3b2ead",
   "metadata": {},
   "outputs": [
    {
     "name": "stdout",
     "output_type": "stream",
     "text": [
      "Shingle size is 5.\n"
     ]
    }
   ],
   "source": [
    "#Select a value for k \n",
    "shingle_size = 5\n",
    "\n",
    "print(f'Shingle size is {shingle_size}.')"
   ]
  },
  {
   "cell_type": "code",
   "execution_count": 14,
   "id": "0757c0cb",
   "metadata": {},
   "outputs": [
    {
     "name": "stdout",
     "output_type": "stream",
     "text": [
      "Total Number of Shingles 1428304\n",
      "\n",
      "Shingling  933  docs took 1.0 sec.\n",
      "\n",
      "Average shingles per doc:  1530\n"
     ]
    }
   ],
   "source": [
    "d = author_dict\n",
    "t = {}\n",
    "\n",
    "docsAsShingleSets = {}\n",
    "docsAsShingleWSets = {}\n",
    "caseIDs = []\n",
    "totalShingles = 0\n",
    "shingleNo = 0\n",
    "t0 = time.time()\n",
    "\n",
    "# loop through all the documents\n",
    "for i in d.keys(): \n",
    "    \n",
    "    #Retrieve opinion and case ID \n",
    "    words = d[i]\n",
    "    caseID = i\n",
    "\n",
    "    # Maintain a list of all case IDs.\n",
    "    caseIDs.append(caseID)\n",
    "\n",
    "    # 'shinglesInDoc' will hold all of the unique shingles present in the\n",
    "    # current document. If a shingle ID occurs multiple times in the document,\n",
    "    # it will only appear once in the set.\n",
    "\n",
    "    # keep word shingles\n",
    "    shinglesInDocWords = set()\n",
    "\n",
    "    # keep hashed shingles\n",
    "    shinglesInDocInts = set()\n",
    "\n",
    "    shingle = []\n",
    "    # For each word in the document...\n",
    "    for index in range(len(words) - shingle_size + 1):\n",
    "        # Construct the shingle text by combining k words together.\n",
    "        shingle = words[index:index + shingle_size]\n",
    "        shingle = ' '.join(shingle)\n",
    "\n",
    "        # Hash the shingle to a 32-bit integer.\n",
    "        crc = binascii.crc32(shingle.encode()) & 0xffffffff\n",
    "        #& 0xffffffff is used to ensure that you get the same numeric value across all Python versions and platforms\n",
    "\n",
    "        #Add the shingle to the set of shingles\n",
    "        if shingle not in shinglesInDocWords:\n",
    "            shinglesInDocWords.add(shingle)\n",
    "            \n",
    "        # Add the hash value to the set of hashed shingles\n",
    "        if crc not in shinglesInDocInts:\n",
    "            shinglesInDocInts.add(crc)\n",
    "            # Count the number of shingles across all documents.\n",
    "            shingleNo = shingleNo + 1\n",
    "    # Store the completed list of shingles for this document in the dictionary.\n",
    "    docsAsShingleSets[caseID] = shinglesInDocInts\n",
    "    docsAsShingleWSets[caseID] = shinglesInDocWords\n",
    "\n",
    "totalShingles = shingleNo\n",
    "\n",
    "print('Total Number of Shingles', shingleNo)\n",
    "# Report how long shingling took.\n",
    "print('\\nShingling ', len(docsAsShingleSets), ' docs took', round(time.time() - t0, 2), 'sec.')\n",
    "print('\\nAverage shingles per doc: ',  (shingleNo // len(docsAsShingleSets)))"
   ]
  },
  {
   "cell_type": "code",
   "execution_count": 15,
   "id": "29307905",
   "metadata": {},
   "outputs": [
    {
     "name": "stdout",
     "output_type": "stream",
     "text": [
      "BEFORE\n",
      "\n",
      "\n",
      "\u001b[1m 5 words shingles in opinion 1577349\u001b[0m\n",
      "{'convictions under both of the', 'sufficient evidence to justify a', 'accident from the contents of', 'preserved through a legal conclusion', 'campos nm pd state v', 'statements sufficiency of the evidence', 'however inferences from other evidence', 'independent of the testimony of', 'the purported telephone call was', 'as both mcgee and defendant', 'moss fd th cir united', 'defendant had not worked for', 'entitled to a new trial', 'trier of fact to convict', 'following day mcgee gave ortiz', 'there is no direct evidence', 'route of travel was inaccurate', 'determine whether the record evidence', 'was a fake that he', 'to have defendants wife killed', 'case even if properly admitted', 'william and bill in the', 'of whether the above four', 'of mcgees scheme no the', 'classes mcgee furnished ortiz photographs', 'not worked for about a', 'of defendants wife must be', 'direct proof and is usually', 'a visitor to defendants home', 'because there is no direct', 'rule compare people v leach', 'evidence is set out in', 'we point out that defendants', 'the statements items and of', 'trial court erred in admitting', 'and items on the table', 'proof of the conspiracy independent', 'convict see state v dressel', 'receiving a telephone call from', 'the photographs and the payroll', 'juror to be satisfied of', 'v dressel nm pd ctapp', 'state v jacobs nm pd', 'as an assertion items and', 'nm pd ctapp jackson v', 'a person if it is', 'for about a year and', 'table were available to mcgee', 'state v dressel supra morris', 'however even if mcgees statements', 'is lacking once the statements', 'the photographs and the original', 'was not relevant because the', 'book on the insurance since', 'a reasonable person hesitate to', 'mcgee and defendant were jointly', 'inferences from basic facts to', 'made valentine also denied receiving', 'conclusion that upon judicial review', 'telephone call from mcgee during', 'mcgee gave ortiz a copy', 'permitted to testify as to', 'are eliminated there is nothing', 'or agreement to accomplish an', 'the testimony of both mcgee', 'understanding between mcgee and defendant', 'is an oral or written', 'parts a whether the four', 'new trial because mcgees statements', 'course and in furtherance of', 'judge mcgee sought to hire', 'mcgee stated he would have', 'defendant and that mcgee was', 'see state v dressel nm', 'since this a kinda screwy', 'liability which depends on the', 'involving valentine mcgees convictions on', 'items were statements and b', 'the insurance proceeds ortiz asked', 'united states v moss fd', 'of belief necessary for a', 'involved with mcgee but that', 'evidence of a conspiracy apart', 'the extent necessary to guarantee', 'knows of the conspiracy state', 'the original of the payroll', 'because mcgees statements were improperly', 'conspiracy is a common design', 'of direct proof and is', 'v bramlett nm pd ctapp', 'is undisputed that mcgee was', 'mcgee and defendant claimed it', 'the evidence are sufficient for', 'was to be paid for', 'of fact to find guilt', 'fundamental protection of due process', 'above four items were admissible', 'there is sufficient evidence to', 'v dressel supra morris v', 'independent of mcgees statements is', 'life the evidence in this', 'by mcgee items and were', 'the evidence as required by', 'the payroll stub to mcgee', 'coconspirator rule ortiz was permitted', 'states v stroupe fd th', 'about a year and an', 'probable or less probable evidence', 'is evidence that defendants wife', 'defendant are identified because they', 'a deduction for accidental death', 'state v armijo nm pd', 'statements these items were not', 'wife killed there is evidence', 'charges against him the dispositive', 'items and furnishing the photographs', 'common design or agreement to', 'raised by defendant are identified', 'of the four items being', 'established by inference from the', 'mcgee those items are mcgee', 'items involving mcgee those items', 'be not simply to determine', 'in any way involved in', 'to or implicated the defendant', 'that mcgee was a visitor', 'recited in this paragraph did', 'provides a statement is an', 'the circumstances shown by all', 'stub to mcgee however inferences', 'have been made valentine also', 'require a court to ask', 'the strongest item to show', 'the light most favorable to', 'rational trier of fact to', 'a telephone call from mcgee', 'the evidence is insufficient to', 'telephone william im going to', 'in the matter involving defendants', 'intended to show the identity', 'policy that defendant was the', 'states v brown fd th', 'written assertion or nonverbal conduct', 'by all of the evidence', 'beneficiary of the policy and', 'if there is insufficient evidence', 'call from mcgee during the', 'original of the payroll stub', 'to mcgee however inferences from', 'but that evidence falls short', 'we discuss admissibility of ortizs', 'one knows of the conspiracy', 'is left that inculpates defendant', 'there was evidence of a', 'are the statements previously identified', 'defendants participation in mcgees scheme', 'to resolve conflicts in the', 'under the coconspirator rule and', 'to prove that defendant had', 'ctapp we pointed out that', 'states conspiracy is seldom susceptible', 'mcgees statements were properly admitted', 'to the wifes route of', 'also denied receiving such a', 'scheme more probable or less', 'of the conspiracy state v', 'coconspirator rule sufficient to prove', 'the definition of statement and', 'conspiracy unless one knows of', 'two charges against him the', 'evidence to support a criminal', 'the coconspirator rule in state', 'were properly admitted there is', 'discuss admissibility of ortizs testimony', 'defendant was somehow involved with', 'the beneficiary of the policy', 'because the evidence recited in', 'between mcgee and defendant see', 'established guilt beyond a reasonable', 'of the conflicting statements of', 'assertion or nonverbal conduct of', 'discharge defendant it is so', 'defendants wife and the existence', 'are identified because they do', 'of the wifes route of', 'a visitor at defendants home', 'to the prosecution any rational', 'in addition mcgee was charged', 'from the statements items and', 'the trier of fact fairly', 'graver and more important affairs', 'under both of the issues', 'it is with defendant mcgee', 'furnished the photographs and the', 'original before considering all of', 'a formal agreement need not', 'united states v stroupe fd', 'reasonable inferences from basic facts', 'from basic facts to ultimate', 'dispositive issue in defendants appeal', 'conspiracy the question of whether', 'a court to ask itself', 'between mcgee and defendant and', 'mcgees statements sufficiency of the', 'ctapp defendant was convicted of', 'judicial review all of the', 'the information that mcgee furnished', 'evening of the day the', 'acts of mcgee in state', 'statements and had held that', 'insurance and thus intended as', 'home none of this evidence', 'conviction for conspiracy to commit', 'establish the conspiracy ortiz admitted', 'is whether there is sufficient', 'opinion wood judge mcgee sought', 'the evidentiary problems arise because', 'evidence that defendants wife had', 'within the definition of statement', 'said the telephone call was', 'when the telephone call could', 'use of william and bill', 'of mcgees statements if properly', 'involving defendants wife in addition', 'strongest item to show a', 'offered against a party and', 'in evidence exculpates the defendant', 'items state v jacobs supra', 'testimony of both mcgee and', 'kinda screwy deal and after', 'stub were on a table', 'as assertions these acts came', 'v virginia us sct ledd', 'nm pd ctapp state v', 'that defendant was in any', 'of mcgee in state v', 'from the conduct of the', 'of the day the purported', 'the evidence in the light', 'that this testimony was not', 'worked for about a year', 'contention is that this testimony', 'conduct of a person if', 'mcgee told ortiz the killing', 'the conspiracy independent of mcgees', 'pd ctapp see united states', 'the course and in furtherance', 'of the insurance proceeds ortiz', 'need that book on the', 'required by jackson v virginia', 'nm pd ctapp we cited', 'is considered ujicrim defines reasonable', 'court to ask itself whether', 'this paragraph when considered with', 'reasonable doubt see johnson v', 'a legal conclusion that upon', 'evidence could reasonably support a', 'conviction and thus both convictions', 'attempt conviction the conspiracy conviction', 'rule evidence rule de is', 'identified because they do not', 'whether there was evidence of', 'held that the coconspirator rule', 'payroll stub were nonverbal conduct', 'evidence in this case even', 'to the sufficiency of the', 'evidence a provides a statement', 'a common design or agreement', 'ortiz was permitted to testify', 'payroll stub were on a', 'into the telephone william im', 'bill oclock see ya the', 'defendants wife must be accidental', 'call was made the evidence', 'beyond a reasonable doubt but', 'bramlett nm pd ctapp see', 'pd ctapp jackson v virginia', 'error we discuss admissibility of', 'were subject to the coconspirator', 'conspiracy would be an inference', 'party during the course and', 'to testify as to four', 'sct ledd we reverse the', 'defendant were jointly indicted for', 'killing of defendants wife must', 'was sufficient under both issues', 'insurance proceeds ortiz asked mcgee', 'there is evidence that defendant', 'reversed for insufficient evidence compare', 'basic facts to ultimate facts', 'was not hearsay under the', 'sct at ledd emphasis added', 'defendants conviction for attempted first', 'purpose by unlawful means one', 'united states v brown fd', 'valentine also denied receiving such', 'sentences are reversed the cause', 'not amount to reversible error', 'mcgee sought to hire ortiz', 'reasonable doubt under jackson v', 'that the united states supreme', 'with william valentine another mcgee', 'statements were properly admitted there', 'suggests this distinction is not', 'accidental death insurance the foregoing', 'wife and the existence of', 'im going to need that', 'charged with attempted murder in', 'itself whether it believes that', 'mcgee items and were acts', 'coconspirator rule that rule evidence', 'with defendant mcgee said the', 'statement is an oral or', 'thus intended as assertions these', 'time of travel to and', 'victim as it is with', 'a reasonable doubt but this', 'defendant was in any way', 'first degree murder state v', 'this paragraph did not tend', 'is set out in the', 'on review of the sufficiency', 'but to determine whether the', 'to sustain the attempt conviction', 'for proof that there was', 'nm pd ctapp we pointed', 'rule ortiz was permitted to', 'home and items on the', 'all of the evidence is', 'once the statements are eliminated', 'or any other time during', 'and more important affairs of', 'the conspiracy ortiz admitted that', 'all of the evidence are', 'for accidental death insurance the', 'commit first degree murder state', 'time referred to or implicated', 'erred in admitting mcgees statements', 'the cause is remanded with', 'guilty of the crime charged', 'evidence unworthy of the degree', 'a payroll stub for defendants', 'police detective to murder defendants', 'receiving such a call there', 'at no time referred to', 'mcgee however inferences from other', 'rule sufficient to prove a', 'then is left that inculpates', 'show the identity of defendants', 'state v jacobs supra state', 'b if so whether there', 'these items were not admissible', 'pd ctapp defendant was convicted', 'facie proof of the conspiracy', 'and temperature defendant denied receiving', 'doubt as a doubt that', 'with mcgees scheme and without', 'cir lacking this proof mcgees', 'and from work and evening', 'most favorable to the prosecution', 'question is whether the circumstances', 'he would have the proof', 'the contents of the payroll', 'mcgee and defendant and independent', 'mcgee and defendant and to', 'the matter involving valentine mcgees', 'not simply to determine whether', 'formal agreement need not be', 'identified in discussing the coconspirator', 'united states v oliva fd', 'william im going to need', 'was evidence of a conspiracy', 'and of ortizs testimony went', 'valentine mcgees convictions on these', 'be satisfied of guilt beyond', 'an inference that defendant furnished', 'doubt that would make a', 'party to a conspiracy unless', 'the conspiracy state v dressel', 'the convictions under both of', 'nm pd ctapp compare the', 'to the responsibility of the', 'on the table were available', 'was in any way involved', 'ortiz admitted that mcgee at', 'claimed it is undisputed that', 'it is so ordered hendley', 'of the trier of fact', 'that the evidence recited in', 'was properly instructed but to', 'parties a formal agreement need', 'brown fd th cir the', 'would make a reasonable person', 'critical inquiry on review of', 'statements in the coconspirator rule', 'that mcgee and defendant were', 'supra morris v dodge country', 'person hesitate to act in', 'proof of conspiracy independent of', 'even if properly admitted was', 'mcgee during the time when', 'when considered with certain additional', 'call was a fake that', 'v campos nm pd state', 'that defendants wife had an', 'both mcgee and defendant and', 'paid for the killings out', 'amount to reversible error we', 'a doubt that would make', 'doubt under jackson v virginia', 'nonverbal conduct intended to show', 'they do not amount to', 'after a pause ok bill', 'question of whether the above', 'agreement need not be proved', 'the two charges against him', 'state v seal nm pd', 'against him the dispositive issue', 'v dressel states conspiracy is', 'pd ctapp state v thoreen', 'the states contention is that', 'conspiracy conviction rests entirely upon', 'foregoing testimony by ortiz ordinarily', 'found the essential elements of', 'to commit first degree murder', 'the socalled telephone conversation testified', 'virginia supra we point out', 'testified to by ortiz is', 'defendant the portion of mcgees', 'a reasonable doubt when all', 'justify a rational trier of', 'insurance the foregoing testimony by', 'under both issues this additional', 'call could have been made', 'unless there was prima facie', 'had distinguished between acts and', 'of the insurance on defendants', 'and thus intended as assertions', 'travel and time of travel', 'criminal conviction must be not', 'to defendant the states contention', 'sufficient to establish the conspiracy', 'conviction for attempted first degree', 'rule and sufficiency of the', 'mcgee was a visitor at', 'in mcgees scheme to have', 'mcgees statements is lacking once', 'calrptr pd the state contends', 'states v moss fd th', 'coconspirator rule did not apply', 'of defendants wife were that', 'that the photographs and the', 'was the beneficiary of the', 'ortiz as to the wifes', 'an issue as to the', 'conversation testified to by ortiz', 'no the strongest item to', 'that would make a reasonable', 'pd ctapp the issue is', 'or a lawful purpose by', 'and in furtherance of the', 'of a person if it', 'reasonable doubt woodby v ins', 'mcgees convictions on these charges', 'have found the essential elements', 'four items being statements these', 'reversed the cause is remanded', 'issues this additional evidence is', 'would be inadmissible hearsay as', 'insufficient evidence to sustain the', 'v thoreen nm pd ctapp', 'the other issues raised by', 'important affairs of life the', 'murder william valentine mcgee and', 'rule did not apply to', 'in state v mcgee nm', 'is intended by him as', 'telephone call could have been', 'satisfied of guilt beyond a', 'jury discretion only to the', 'each of the four items', 'of the evidence none of', 'so ordered hendley and lopez', 'deduction for accidental death insurance', 'payroll stub for defendants wife', 'were improperly admitted however even', 'fd th cir united states', 'dressel nm pd ctapp state', 'that there was insurance according', 'insufficient to sustain the conspiracy', 'instructed but to determine whether', 'and after a pause ok', 'at oclock or any other', 'beyond a reasonable doubt when', 'mcgee owed defendant and that', 'could reasonably support a finding', 'necessary for a voluntary waiver', 'point out that defendants conviction', 'a criminal conviction must be', 'for conspiracy and attempt in', 'going to need that book', 'of fact could have found', 'nm pd ctapp see united', 'information that mcgee furnished ortiz', 'evidence under rcrimproc see state', 'factfinders role as weigher of', 'defendant has been found guilty', 'dodge country inc nm pd', 'the conflicting statements of defendants', 'evidence the question is whether', 'defendant mcgee said the telephone', 'admitted was insufficient to sustain', 'direct evidence that defendant was', 'trier of fact to find', 'denied receiving such a call', 'were available to mcgee during', 'the united states supreme court', 'statements is lacking once the', 'to show a conspiracy would', 'defendant see united states v', 'of life the evidence in', 'dressel supra morris v dodge', 'oclock see ya the following', 'out of the insurance proceeds', 'in state v armijo nm', 'defendants wife and her car', 'oral or written assertion or', 'reasonable person hesitate to act', 'and b if so whether', 'fairly to resolve conflicts in', 'fake that he called time', 'this inquiry does not require', 'convictions are reversed for insufficient', 'insufficient to sustain the attempt', 'and that mcgee was a', 'reasonable doubt as a doubt', 'policy covered an accident from', 'independent of these four items', 'inc nm pd ctapp compare', 'was convicted of the two', 'morris v dodge country inc', 'stated he would have the', 'not require a court to', 'discussing the coconspirator rule sufficient', 'voluntary waiver in state v', 'testimony to weigh the evidence', 'upon jury discretion only to', 'evidence that defendant had not', 'of the parties a formal', 'the trial court erred in', 'e a statement by a', 'independent of the conflicting statements', 'not apply to acts defendant', 'before considering all of the', 'protection of due process of', 'a reasonable doubt state v', 'reasonable doubt but this inquiry', 'is not hearsay if the', 'coconspirator rule in state v', 'all of the evidence as', 'or less probable evidence rule', 'the payroll stub were on', 'is whether the circumstances shown', 'wife showing a deduction for', 'no direct evidence that defendant', 'fact fairly to resolve conflicts', 'and without more was not', 'next day used the telephone', 'ctapp the issue is whether', 'to weigh the evidence and', 'defendants home as both mcgee', 'photographs and the payroll stub', 'v leach cald calrptr pd', 'is preserved through a legal', 'implicated the defendant the portion', 'a table in defendants home', 'de is d a statement', 'one cannot be a party', 'travel was inaccurate the use', 'furnished ortiz as to the', 'whether after viewing the evidence', 'raised a suspicion that defendant', 'evidence connects defendant with mcgees', 'defendant denied receiving a telephone', 'viewing the evidence in the', 'covered an accident from the', 'knowledge of mcgees scheme no', 'to make defendants participation in', 'to dial a number unknown', 'none of this evidence connects', 'mcgee during those visits mcgee', 'the degree of belief necessary', 'defendants wife were that the', 'her car inasmuch as ortiz', 'by a coconspirator of a', 'deal and after a pause', 'or written assertion or nonverbal', 'v mcgee nm pd ctapp', 'a new trial because mcgees', 'the responsibility of the trier', 'are mcgee told ortiz the', 'contents of the payroll stub', 'unworthy of the degree of', 'for defendants wife showing a', 'mcgees scheme to have defendants', 'wife in addition mcgee was', 'of fact fairly to resolve', 'of these four items state', 'a kinda screwy deal and', 'doubt state v carter nm', 'conviction rests entirely upon circumstantial', 'of the evidence under jackson', 'facts to ultimate facts once', 'issue as to the sufficiency', 'problems arise because there is', 'we cited new mexico decisions', 'do not amount to reversible', 'rule of evidence a provides', 'conspiracy independent of mcgees statements', 'mcgees scheme no the strongest', 'such a call there is', 'armijo nm pd ctapp we', 'payroll stub the information that', 'were statements and b if', 'day the purported telephone call', 'scheme and without more was', 'mcgee said the telephone call', 'the coconspirator rule sufficient to', 'between acts and statements and', 'connects defendant with mcgees scheme', 'were jointly indicted for conspiracy', 'the insurance policy covered an', 'was charged with attempted murder', 'mcgee furnished ortiz photographs of', 'jointly indicted for conspiracy and', 'a statement is an oral', 'items were admissible has two', 'apply to acts defendant suggests', 'were nonverbal conduct intended to', 'four items were admissible has', 'charges were affirmed in state', 'the trial established guilt beyond', 'visitor to defendants home and', 'is no direct evidence that', 'those items are mcgee told', 'out in the two issues', 'year and an inference that', 'the evidence in this case', 'the above four items were', 'affairs of life the evidence', 'the killing of defendants wife', 'by unlawful means one cannot', 'and her car inasmuch as', 'during those visits mcgee would', 'of the crime beyond a', 'two parts a whether the', 'support a criminal conviction must', 'to defendants home and items', 'whether there is sufficient evidence', 'evidence exculpates the defendant what', 'that permits an inference of', 'sct at ledd this familiar', 'mcgees statements were improperly admitted', 'copy of a payroll stub', 'permitting a rational juror to', 'there is evidence that mcgee', 'day used the telephone to', 'defendant furnished the photographs and', 'of travel to and from', 'is sufficient evidence to justify', 'been found guilty of the', 'jacobs supra state v armijo', 'a year and an inference', 'ortiz an undercover police detective', 'testimony was not hearsay under', 'a party during the course', 'did not apply to acts', 'of the issues discussed the', 'ledd emphasis added instead the', 'mutually implied understanding is sufficient', 'the four items being statements', 'the policy there is evidence', 'previously identified in discussing the', 'call there is no evidence', 'is d a statement is', 'the evidence at the trial', 'the conspiracy the question of', 'evidence in the light most', 'inadmissible hearsay as to defendant', 'involved in mcgees scheme to', 'thus both convictions are reversed', 'the coconspirator rule each of', 'a copy of a payroll', 'as required by jackson v', 'is nothing that permits an', 'mutually implied understanding between mcgee', 'conviction must be not simply', 'the table were available to', 'defendants wifes the next day', 'to hire ortiz an undercover', 'conspiracy apart from the statements', 'of the testimony of both', 'of fact to convict see', 'the use of william and', 'would be an inference that', 'us sct ledd we reverse', 'whether the record evidence could', 'of a conspiracy apart from', 'evidence was sufficient under both', 'country inc nm pd ctapp', 'work and evening classes mcgee', 'attempted first degree murder is', 'for a rational trier of', 'wife must be accidental and', 'of the evidence are sufficient', 'detective to murder defendants wife', 'under jackson v virginia defendant', 'pd state v seal nm', 'of defendants wife and her', 'by inference from the conduct', 'lawful purpose by unlawful means', 'ordinarily would be inadmissible hearsay', 'testify as to four items', 'discretion only to the extent', 'and had held that the', 'both mcgee and defendant claimed', 'but this inquiry does not', 'compare the evidence unworthy of', 'and the original of the', 'a number unknown to ortiz', 'the photographs and the copy', 'applicable under our rules of', 'proceeds ortiz asked mcgee for', 'murder in the matter involving', 'be considered in the light', 'and to murder william valentine', 'prove that defendant had knowledge', 'mcgee nm pd ctapp defendant', 'the state contends that the', 'had held that the coconspirator', 'to be paid for the', 'ortiz is as consistent with', 'sufficiency of the evidence none', 'of the evidence is to', 'supra we point out that', 'copy of the payroll stub', 'found guilty of the crime', 'proved a mutually implied understanding', 'mcgee at no time referred', 'unlawful purpose or a lawful', 'policy and that defendant knew', 'was insurance according to ortiz', 'furtherance of the conspiracy the', 'the defendant the portion of', 'of ortizs testimony went to', 'considered with certain additional evidence', 'that he called time and', 'accidental death insurance policy that', 'conduct intended to show the', 'a derivative liability which depends', 'of the evidence is considered', 'the evidence to support a', 'is offered against a party', 'cir united states v oliva', 'to be considered in the', 'in the coconspirator rule in', 'paragraph did not tend to', 'addition mcgee was charged with', 'jackson v virginia us sct', 'of travel was inaccurate the', 'cause is remanded with instructions', 'insurance policy covered an accident', 'considering all of the evidence', 'find guilt beyond a reasonable', 'the evidence of mcgees statements', 'or nonverbal conduct of a', 'is a common design or', 'the next day used the', 'inquiry on review of the', 'this a kinda screwy deal', 'and evening classes mcgee furnished', 'once a defendant has been', 'wood judge mcgee sought to', 'scheme to have defendants wife', 'to convict see state v', 'more important affairs of life', 'number unknown to ortiz and', 'killings out of the insurance', 'evidence rule de is d', 'defendants wife killed there is', 'statement by a coconspirator of', 'we reverse the convictions under', 'recited in this paragraph when', 'rule de is d a', 'conduct of the parties a', 'united states supreme court had', 'is e a statement by', 'a finding of guilt beyond', 'pd state v dressel supra', 'be accidental and told ortiz', 'sustain the attempt conviction the', 'which depends on the conviction', 'consistent with william valentine another', 'bill in the socalled telephone', 'of permitting a rational juror', 'mcgees statements if properly admitted', 'table in defendants home as', 'rcrimproc see state v herrera', 'inculpates defendant are the statements', 'is so ordered hendley and', 'state v herrera nm pd', 'conspiracy state v dressel states', 'mcgees scheme more probable or', 'evidence are sufficient for a', 'even if mcgees statements were', 'and defendant see united states', 'acts and statements and had', 'degree murder state v armijo', 'a statement is not hearsay', 'v seal nm pd state', 'and the existence of insurance', 'this familiar standard gives full', 'so whether there was evidence', 'hearsay as to defendant the', 'extent necessary to guarantee the', 'a fake that he called', 'in the testimony to weigh', 'as to the sufficiency of', 'the evidence and to draw', 'said into the telephone william', 'showing a deduction for accidental', 'is insufficient evidence to sustain', 'there is nothing that permits', 'explains the critical inquiry on', 'state v thoreen nm pd', 'that defendant was the beneficiary', 'two issues discussed coconspirator rule', 'of due process of law', 'usually established by inference from', 'review all of the evidence', 'involves the sufficiency of the', 'necessary to guarantee the fundamental', 'included both acts and statements', 'state v mcgee nm pd', 'defendants wife had an accidental', 'of statement and were subject', 'if the statement is offered', 'entirely upon circumstantial evidence the', 'rule that rule evidence rule', 'issues raised by defendant are', 'the jury was properly instructed', 'of a payroll stub for', 'defendants wife in addition mcgee', 'mcgee saw the defendant at', 'by him as an assertion', 'th cir united states v', 'a statement by a coconspirator', 'would be entitled to a', 'insurance on defendants wifes the', 'policy there is evidence that', 'whether the jury was properly', 'there is no evidence that', 'jackson v virginia defendant would', 'ins us at sct at', 'statements are eliminated there is', 'telephone call was made the', 'proof and is usually established', 'photographs of defendants wife and', 'of ortizs testimony under the', 'these acts came within the', 'the essential elements of the', 'statements were not admissible the', 'after viewing the evidence in', 'is seldom susceptible of direct', 'thus impinges upon jury discretion', 'state v dressel nm pd', 'issue in defendants appeal involves', 'to the extent necessary to', 'the issue is whether there', 'review of the sufficiency of', 'telephone call was a fake', 'jackson v virginia supra we', 'facts once a defendant has', 'set out in the two', 'these charges were affirmed in', 'beyond a reasonable doubt under', 'were on a table in', 'conflicts in the testimony to', 'dial a number unknown to', 'be inadmissible hearsay as to', 'emphasis in original before considering', 'testimony went to outofcourt remarks', 'photographs and the copy of', 'to draw reasonable inferences from', 'time when the telephone call', 'is sufficient to establish the', 'impinges upon jury discretion only', 'did not tend to make', 'and said into the telephone', 'had an accidental death insurance', 'herrera nm pd ctapp the', 'gave ortiz a copy of', 'the policy and that defendant', 'virginia us sct ledd we', 'of the other issues raised', 'of guilt beyond a reasonable', 'be paid for the killings', 'went to outofcourt remarks by', 'mcgee and defendant were friends', 'law emphasis in original before', 'conviction the evidence is insufficient', 'sufficiency of the evidence to', 'of the conspiracy the question', 'mcgee for proof that there', 'an assertion items and furnishing', 'relevant question is whether after', 'from the contents of the', 'supra prima facie proof of', 'as it is with defendant', 'nonverbal conduct of a person', 'is that this testimony was', 'with certain additional evidence was', 'of the payroll stub to', 'participation in mcgees scheme more', 'discussed the evidentiary problems arise', 'of insurance and thus intended', 'the critical inquiry on review', 'there was prima facie proof', 'a party and is e', 'that defendant had not worked', 'upon circumstantial evidence the question', 'both of the issues discussed', 'the portion of mcgees statement', 'discussed coconspirator rule ortiz was', 'inasmuch as ortiz was to', 'see united states v stroupe', 'being statements these items were', 'court had distinguished between acts', 'is insufficient to sustain the', 'not applicable under our rules', 'of the evidence to support', 'the issues discussed the evidentiary', 'rule in state v jacobs', 'and statements in the coconspirator', 'not relevant because the evidence', 'to need that book on', 'coconspirator rule each of the', 'to by ortiz is as', 'to accomplish an unlawful purpose', 'nm pd ctapp defendant was', 'available to mcgee during those', 'ask itself whether it believes', 'to establish the conspiracy ortiz', 'see johnson v louisiana us', 'rules of evidence we agree', 'statements of defendants wife were', 'fd th cir lacking this', 'and bill in the socalled', 'mcgee in state v armijo', 'to support a criminal conviction', 'emphasis added instead the relevant', 'in the light most favorable', 'matter involving defendants wife in', 'coconspirator of a party during', 'intended by him as an', 'whether it believes that the', 'sufficient to prove a mutually', 'pd ctapp compare the evidence', 'evidence that defendant was in', 'day mcgee gave ortiz a', 'is remanded with instructions to', 'conspiracy is seldom susceptible of', 'statements previously identified in discussing', 'of the payroll stub were', 'convictions on these charges were', 'identity of defendants wife and', 'a mutually implied understanding is', 'time during the evening of', 'ctapp see united states v', 'pause ok bill oclock see', 'were not admissible the trial', 'determine whether the jury was', 'v herrera nm pd ctapp', 'belief necessary for a voluntary', 'ctapp we cited new mexico', 'of the crime charged the', 'it is undisputed that mcgee', 'any way involved in mcgees', 'to the prosecution the criterion', 'and were acts of mcgee', 'is whether after viewing the', 'acts and statements in the', 'admissible the trial court erred', 'as a doubt that would', 'ctapp states a conspiracy is', 'would know that the insurance', 'the evidence none of the', 'cir united states v brown', 'be entitled to a new', 'were affirmed in state v', 'that upon judicial review all', 'was insufficient to sustain the', 'by ortiz ordinarily would be', 'of a conspiracy between mcgee', 'matter involving valentine mcgees convictions', 'undisputed that mcgee was a', 'in this case even if', 'nm pd state v dressel', 'evidence rule compare people v', 'in defendants appeal involves the', 'essential elements of the crime', 'the coconspirator rule did not', 'the statements are eliminated there', 'wifes route of travel and', 'if properly admitted was insufficient', 'conspiracy independent of these four', 'insurance policy that defendant was', 'eliminated there is nothing that', 'criterion thus impinges upon jury', 'the evidence under jackson v', 'show a conspiracy would be', 'hire ortiz an undercover police', 'telephone to dial a number', 'whether the above four items', 'saw the defendant at oclock', 'in the socalled telephone conversation', 'in the two issues discussed', 'v armijo supra prima facie', 'insufficient evidence compare state v', 'there was insurance according to', 'the conspiracy conviction the evidence', 'of the evidence under rcrimproc', 'virginia supra explains the critical', 'not admissible the trial court', 'defendant was the beneficiary of', 'defendant it is so ordered', 'unlawful means one cannot be', 'proof that there was insurance', 'issues discussed the evidentiary problems', 'statements if properly admitted raised', 'to sustain the conspiracy conviction', 'in the matter involving valentine', 'somehow involved with mcgee but', 'conspiracy between mcgee and defendant', 'because they do not amount', 'photographs and the original of', 'to a new trial because', 'if it is intended by', 'degree of belief necessary for', 'it believes that the evidence', 'a reasonable doubt woodby v', 'v louisiana us at sct', 'arise because there is no', 'admissible unless there was prima', 'accidental and told ortiz of', 'evidence to justify a rational', 'the following day mcgee gave', 'ortiz photographs of defendants wife', 'ortizs testimony under the coconspirator', 'to the coconspirator rule each', 'defendant knew of the existence', 'from other evidence independent of', 'assertions these acts came within', 'the question is whether the', 'of the existence of the', 'affirmed in state v mcgee', 'support a finding of guilt', 'armijo supra prima facie proof', 'and the copy of the', 'were acts of mcgee in', 'for the killings out of', 'intended as assertions these acts', 'or implicated the defendant the', 'compare state v campos nm', 'murder defendants wife and to', 'lacking once the statements are', 'the day the purported telephone', 'evidence none of the other', 'ortiz was to be paid', 'the telephone william im going', 'defendants wife and to murder', 'state v bramlett nm pd', 'simply to determine whether the', 'were not admissible unless there', 'that defendant had knowledge of', 'ordered hendley and lopez jj', 'from work and evening classes', 'issues discussed coconspirator rule ortiz', 'the crime charged the factfinders', 'first degree murder is at', 'statements were improperly admitted however', 'waiver in state v bramlett', 'favorable to the prosecution any', 'are reversed the cause is', 'circumstances shown by all of', 'that book on the insurance', 'indicted for conspiracy and attempt', 'and defendant claimed it is', 'ortiz the killing of defendants', 'court erred in admitting mcgees', 'not be proved a mutually', 'mcgees statements were not admissible', 'considered ujicrim defines reasonable doubt', 'reasonable doubt when all of', 'car inasmuch as ortiz was', 'gives full play to the', 'design or agreement to accomplish', 'the fundamental protection of due', 'make defendants participation in mcgees', 'home as both mcgee and', 'that evidence falls short of', 'wife had an accidental death', 'th cir lacking this proof', 'the evidence unworthy of the', 'remanded with instructions to discharge', 'in defendants home as both', 'of a party during the', 'rests entirely upon circumstantial evidence', 'portion of mcgees statement in', 'conflicting statements of defendants wife', 'a rational juror to be', 'properly admitted raised a suspicion', 'what then is left that', 'four items involving mcgee those', 'wife were that the photographs', 'probable evidence rule compare people', 'the evidence is preserved through', 'for attempted first degree murder', 'v armijo nm pd ctapp', 'acts came within the definition', 'jacobs nm pd ctapp we', 'statement in evidence exculpates the', 'the evidence is to be', 'stroupe fd th cir united', 'be an inference that defendant', 'the statement is offered against', 'of the policy there is', 'at the trial established guilt', 'the defendant at oclock or', 'the prosecution the criterion thus', 'of the evidence as required', 'and to draw reasonable inferences', 'have defendants wife killed there', 'and were subject to the', 'states a conspiracy is a', 'wifes route of travel was', 'lacking this proof mcgees statements', 'a call there is no', 'evidence under jackson v virginia', 'reasonably support a finding of', 'suspicion that defendant was somehow', 'need not be proved a', 'improperly admitted however even if', 'not admissible unless there was', 'would have the proof of', 'agree rule of evidence a', 'to mcgee during those visits', 'socalled telephone conversation testified to', 'to prove a mutually implied', 'as ortiz was to be', 'v carter nm pd ctapp', 'at ledd emphasis added instead', 'attempted murder in the matter', 'states contention is that this', 'act in the graver and', 'needed money there is evidence', 'an inference that defendant needed', 'defendant and to prove that', 'state contends that the evidence', 'is evidence that defendant had', 'mcgees scheme and without more', 'trier of fact could have', 'defendants home and items on', 'the insurance since this a', 'that defendant needed money there', 'question is whether after viewing', 'responsibility of the trier of', 'items and were acts of', 'item to show a conspiracy', 'and sufficiency of the evidence', 'this additional evidence is set', 'of the degree of belief', 'and defendant were friends that', 'agreement to accomplish an unlawful', 'evening classes mcgee furnished ortiz', 'inquiry does not require a', 'pd the state contends that', 'sustain the conspiracy conviction and', 'less probable evidence rule compare', 'jackson v virginia supra explains', 'that defendant was somehow involved', 'certain additional evidence was sufficient', 'that the evidence at the', 'the defendant what then is', 'pd ctapp states a conspiracy', 'called time and temperature defendant', 'be a party to a', 'know that the insurance policy', 'a pause ok bill oclock', 'd a statement is not', 'whether the circumstances shown by', 'him the dispositive issue in', 'evidence independent of the testimony', 'of the payroll stub the', 'ledd this familiar standard gives', 'the conspiracy conviction rests entirely', 'distinguished between acts and statements', 'properly admitted was insufficient to', 'this proof mcgees statements were', 'was a visitor at defendants', 'the evening of the day', 'the payroll stub were nonverbal', 'shown by all of the', 'denied receiving a telephone call', 'the killings out of the', 'in this paragraph did not', 'v moss fd th cir', 'evidence compare state v campos', 'an inference of a conspiracy', 'stub for defendants wife showing', 'carter nm pd ctapp jackson', 'judgment and sentences are reversed', 'and thus both convictions are', 'rational trier of fact could', 'charged the factfinders role as', 'to ortiz mcgee stated he', 'inference that defendant needed money', 'properly instructed but to determine', 'as to defendant the states', 'are reversed for insufficient evidence', 'a conspiracy would be an', 'sufficient under both issues this', 'v brown fd th cir', 'decisions that included both acts', 'an oral or written assertion', 'hesitate to act in the', 'him as an assertion items', 'unless one knows of the', 'facie proof of conspiracy independent', 'furnished ortiz photographs of defendants', 'is with defendant mcgee said', 'ujicrim defines reasonable doubt as', 'prima facie proof of the', 'v virginia defendant would be', 'of this evidence connects defendant', 'admitted however even if mcgees', 'other issues raised by defendant', 'a whether the four items', 'the statements previously identified in', 'v virginia supra explains the', 'four items were statements and', 'to guarantee the fundamental protection', 'in mcgees scheme more probable', 'defendant the states contention is', 'in the graver and more', 'to discharge defendant it is', 'items being statements these items', 'crime beyond a reasonable doubt', 'to determine whether the record', 'with instructions to discharge defendant', 'a conspiracy unless one knows', 'are sufficient for a rational', 'those visits mcgee would know', 'supra explains the critical inquiry', 'from mcgee during the time', 'jury was properly instructed but', 'conspiracy conviction and thus both', 'the question of whether the', 'additional evidence is set out', 'v oliva fd th cir', 'process of law emphasis in', 'the telephone call could have', 'told ortiz the killing of', 'ctapp state v thoreen nm', 'that defendants conviction for attempted', 'and defendant and to prove', 'that mcgee furnished ortiz as', 'ultimate facts once a defendant', 'mcgee but that evidence falls', 'the existence of the policy', 'at sct at ledd this', 'defendant was convicted of the', 'both issues this additional evidence', 'the judgment and sentences are', 'were admissible has two parts', 'is usually established by inference', 'other time during the evening', 'convicted of the two charges', 'defendant were friends that mcgee', 'cald calrptr pd the state', 'items are mcgee told ortiz', 'testimony by ortiz ordinarily would', 'state v campos nm pd', 'a suspicion that defendant was', 'rational juror to be satisfied', 'under jackson v virginia us', 'state v dressel states conspiracy', 'visitor at defendants home none', 'to outofcourt remarks by mcgee', 'new mexico decisions that included', 'that defendant furnished the photographs', 'death insurance policy that defendant', 'four items state v jacobs', 'was a visitor to defendants', 'valentine mcgee and defendant were', 'owed defendant and that mcgee', 'admissible has two parts a', 'the attempt conviction the conspiracy', 'was somehow involved with mcgee', 'been made valentine also denied', 'items on the table were', 'money there is evidence that', 'prosecution the criterion thus impinges', 'of the sufficiency of the', 'any other time during the', 'is not applicable under our', 'both convictions are reversed for', 'asked mcgee for proof that', 'hendley and lopez jj concur', 'to acts defendant suggests this', 'see state v herrera nm', 'issue is whether there is', 'distinction is not applicable under', 'for a voluntary waiver in', 'doubt woodby v ins us', 'we pointed out that the', 'have the proof of the', 'due process of law emphasis', 'favorable to the prosecution the', 'pd ctapp if there is', 'the proof of the insurance', 'oliva fd th cir lacking', 'as weigher of the evidence', 'is as consistent with william', 'conspiracy ortiz admitted that mcgee', 'a lawful purpose by unlawful', 'additional evidence was sufficient under', 'insurance since this a kinda', 'pd ctapp we cited new', 'and defendant and independent of', 'states v oliva fd th', 'were friends that mcgee owed', 'that mcgee saw the defendant', 'light most favorable to the', 'inferences from other evidence independent', 'defendants appeal involves the sufficiency', 'evidence is considered ujicrim defines', 'believes that the evidence at', 'implied understanding between mcgee and', 'we agree rule of evidence', 'seldom susceptible of direct proof', 'reasonable doubt state v carter', 'statement and were subject to', 'exculpates the defendant what then', 'evidence is to be considered', 'that the coconspirator rule did', 'another mcgee victim as it', 'does not require a court', 'was inaccurate the use of', 'referred to or implicated the', 'william valentine mcgee and defendant', 'contends that the evidence recited', 'that mcgee owed defendant and', 'a reasonable doubt under jackson', 'wife and her car inasmuch', 'at defendants home none of', 'v ins us at sct', 'no evidence that mcgee saw', 'on these charges were affirmed', 'in state v jacobs nm', 'the parties a formal agreement', 'items were not admissible unless', 'the record evidence could reasonably', 'trial established guilt beyond a', 'an unlawful purpose or a', 'th cir the judgment and', 'furnishing the photographs and the', 'defendant and independent of the', 'an accidental death insurance policy', 'a conspiracy apart from the', 'killed there is evidence that', 'and told ortiz of the', 'falls short of permitting a', 'this testimony was not hearsay', 'fact to convict see state', 'under the coconspirator rule that', 'of evidence we agree rule', 'and attempt in the matter', 'defendant would be entitled to', 'the foregoing testimony by ortiz', 'as to four items involving', 'testimony under the coconspirator rule', 'stub the information that mcgee', 'mcgee furnished ortiz as to', 'definition of statement and were', 'guilt beyond a reasonable doubt', 'that inculpates defendant are the', 'told ortiz of the wifes', 'guarantee the fundamental protection of', 'friends that mcgee owed defendant', 'has two parts a whether', 'reversible error we discuss admissibility', 'the evidence under rcrimproc see', 'to justify a rational trier', 'without more was not relevant', 'there is an issue as', 'these four items state v', 'and independent of the conflicting', 'conspiracy conviction the evidence is', 'hearsay if the statement is', 'at sct at ledd emphasis', 'admitted that mcgee at no', 'party and is e a', 'knew of the existence of', 'is evidence that mcgee and', 'that the insurance policy covered', 'conviction the conspiracy conviction rests', 'derivative liability which depends on', 'conspiracy and attempt in the', 'had not worked for about', 'ledd we reverse the convictions', 'ortiz and said into the', 'full play to the responsibility', 'v stroupe fd th cir', 'in admitting mcgees statements sufficiency', 'on a table in defendants', 'mcgee was charged with attempted', 'visits mcgee would know that', 'under rcrimproc see state v', 'time and temperature defendant denied', 'ctapp compare the evidence unworthy', 'the copy of the payroll', 'to support a finding of', 'this case even if properly', 'trial because mcgees statements were', 'nothing that permits an inference', 'and an inference that defendant', 'sought to hire ortiz an', 'the graver and more important', 'prove a mutually implied understanding', 'any rational trier of fact', 'the evidence recited in this', 'the matter involving defendants wife', 'defendant needed money there is', 'a provides a statement is', 'fact could have found the', 'proof mcgees statements were not', 'tend to make defendants participation', 'ctapp jackson v virginia supra', 'inaccurate the use of william', 'wife and to murder william', 'fd th cir the judgment', 'v jacobs nm pd ctapp', 'pointed out that the united', 'the wifes route of travel', 'defendants wife showing a deduction', 'defendant had knowledge of mcgees', 'for insufficient evidence compare state', 'none of the other issues', 'of defendants wife and the', 'he called time and temperature', 'be proved a mutually implied', 'to murder william valentine mcgee', 'route of travel and time', 'of law emphasis in original', 'compare people v leach cald', 'appeal involves the sufficiency of', 'only to the extent necessary', 'scheme no the strongest item', 'more was not relevant because', 'evidentiary problems arise because there', 'is an issue as to', 'most a derivative liability which', 'of the two charges against', 'ortiz of the wifes route', 'outofcourt remarks by mcgee items', 'statements items and of ortizs', 'payroll stub to mcgee however', 'to be satisfied of guilt', 'sufficient for a rational trier', 'ortiz ordinarily would be inadmissible', 'more probable or less probable', 'of evidence a provides a', 'it is intended by him', 'v jacobs supra state v', 'armijo nm pd ctapp if', 'weigh the evidence and to', 'mcgee victim as it is', 'us at sct at ledd', 'a reasonable doubt see johnson', 'the two issues discussed coconspirator', 'was permitted to testify as', 'purported telephone call was made', 'the conspiracy conviction and thus', 'seal nm pd state v', 'involving mcgee those items are', 'not hearsay under the coconspirator', 'ortizs testimony went to outofcourt', 'defendant are the statements previously', 'familiar standard gives full play', 'according to ortiz mcgee stated', 'draw reasonable inferences from basic', 'the time when the telephone', 'nm pd state v seal', 'the evidence is considered ujicrim', 'that rule evidence rule de', 'were that the photographs and', 'evidence recited in this paragraph', 'prosecution any rational trier of', 'murder state v armijo nm', 'admitted there is an issue', 'ortiz mcgee stated he would', 'conspiracy to commit first degree', 'instead the relevant question is', 'to show the identity of', 'the prosecution any rational trier', 'make a reasonable person hesitate', 'cited new mexico decisions that', 'was made the evidence of', 'was prima facie proof of', 'defendant what then is left', 'under our rules of evidence', 'added instead the relevant question', 'virginia defendant would be entitled', 'stub were nonverbal conduct intended', 'circumstantial evidence the question is', 'state v carter nm pd', 'statement is not hearsay if', 'could have found the essential', 'by ortiz is as consistent', 'left that inculpates defendant are', 'short of permitting a rational', 'evidence is insufficient to sustain', 'states supreme court had distinguished', 'in discussing the coconspirator rule', 'properly admitted there is an', 'valentine another mcgee victim as', 'and furnishing the photographs and', 'johnson v louisiana us at', 'depends on the conviction for', 'defendants home none of this', 'in original before considering all', 'ctapp if there is insufficient', 'the insurance on defendants wifes', 'upon judicial review all of', 'temperature defendant denied receiving a', 'beyond a reasonable doubt state', 'thoreen nm pd ctapp states', 'as consistent with william valentine', 'cir the judgment and sentences', 'woodby v ins us at', 'our rules of evidence we', 'nm pd ctapp the issue', 'mcgee and defendant see united', 'the conviction for conspiracy to', 'evidence as required by jackson', 'could have been made valentine', 'not hearsay if the statement', 'murder is at most a', 'is no evidence that mcgee', 'doubt but this inquiry does', 'wifes the next day used', 'beyond a reasonable doubt woodby', 'mexico decisions that included both', 'of the policy and that', 'nm pd ctapp states a', 'permits an inference of a', 'louisiana us at sct at', 'evidence we agree rule of', 'a conspiracy between mcgee and', 'screwy deal and after a', 'the conduct of the parties', 'both acts and statements in', 'this distinction is not applicable', 'a rational trier of fact', 'the identity of defendants wife', 'subject to the coconspirator rule', 'instructions to discharge defendant it', 'standard gives full play to', 'evidence to support a finding', 'undercover police detective to murder', 'sustain the conspiracy conviction the', 'to ultimate facts once a', 'inference from the conduct of', 'defendant with mcgees scheme and', 'defines reasonable doubt as a', 'admissibility of ortizs testimony under', 'evidence that mcgee saw the', 'statement is offered against a', 'and is e a statement', 'ya the following day mcgee', 'ok bill oclock see ya', 'there is insufficient evidence to', 'inference that defendant furnished the', 'doubt when all of the', 'the telephone to dial a', 'by jackson v virginia supra', 'the testimony to weigh the', 'is at most a derivative', 'ortiz a copy of a', 'out that the united states', 'out that defendants conviction for', 'not tend to make defendants', 'of mcgees statements is lacking', 'in state v bramlett nm', 'during the course and in', 'implied understanding is sufficient to', 'defendant claimed it is undisputed', 'when all of the evidence', 'has been found guilty of', 'to a conspiracy unless one', 'the payroll stub the information', 'a defendant has been found', 'if mcgees statements were properly', 'an undercover police detective to', 'came within the definition of', 'elements of the crime beyond', 'accomplish an unlawful purpose or', 'this evidence connects defendant with', 'and defendant were jointly indicted', 'of the evidence is preserved', 'beyond a reasonable doubt see', 'defendant at oclock or any', 'of both mcgee and defendant', 'the criterion thus impinges upon', 'had knowledge of mcgees scheme', 'means one cannot be a', 'of conspiracy independent of these', 'the telephone call was a', 'evidence at the trial established', 'a voluntary waiver in state', 'there is evidence that defendants', 'inference of a conspiracy between', 'on the conviction for conspiracy', 'cannot be a party to', 'play to the responsibility of', 'coconspirator rule and sufficiency of', 'admitted raised a suspicion that', 'evidence falls short of permitting', 'existence of the policy there', 'is to be considered in', 'the sufficiency of the evidence', 'finding of guilt beyond a', 'evidence is preserved through a', 'nm pd ctapp if there', 'unknown to ortiz and said', 'v virginia supra we point', 'of mcgees statement in evidence', 'and time of travel to', 'see ya the following day', 'travel to and from work', 'the existence of insurance and', 'see united states v moss', 'that mcgee at no time', 'to murder defendants wife and', 'the factfinders role as weigher', 'evidence that mcgee and defendant', 'on defendants wifes the next', 'with mcgee but that evidence', 'during the evening of the', 'if properly admitted raised a', 'made the evidence of mcgees', 'william valentine another mcgee victim', 'of travel and time of', 'to determine whether the jury', 'paragraph when considered with certain', 'against a party and is', 'and statements and had held', 'to four items involving mcgee', 'that included both acts and', 'state v armijo supra prima', 'whether the four items were', 'susceptible of direct proof and', 'mcgee was a visitor to', 'mcgees statement in evidence exculpates', 'ortiz asked mcgee for proof', 'to ortiz and said into', 'at ledd this familiar standard', 'of william and bill in', 'used the telephone to dial', 'pd ctapp we pointed out', 'an accident from the contents', 'defendant suggests this distinction is', 'a conspiracy is a common', 'proof of the insurance on', 'relevant because the evidence recited', 'a coconspirator of a party', 'record evidence could reasonably support', 'doubt see johnson v louisiana', 'fact to find guilt beyond', 'and the payroll stub were', 'other evidence independent of the', 'in furtherance of the conspiracy', 'the coconspirator rule that rule', 'telephone conversation testified to by', 'no time referred to or', 'weigher of the evidence is', 'by defendant are identified because', 'to reversible error we discuss', 'to and from work and', 'dressel states conspiracy is seldom', 'during the time when the', 'supreme court had distinguished between', 'apart from the statements items', 'mcgee would know that the', 'person if it is intended', 'on the insurance since this', 'and is usually established by', 'rule each of the four', 'way involved in mcgees scheme', 'oclock or any other time', 'items and of ortizs testimony', 'evidence and to draw reasonable', 'the crime beyond a reasonable', 'and that defendant knew of', 'evidence to sustain the conspiracy', 'the four items were statements', 'the relevant question is whether', 'if so whether there was', 'must be accidental and told', 'considered in the light most', 'prima facie proof of conspiracy', 'the coconspirator rule and sufficiency', 'hearsay under the coconspirator rule', 'a party to a conspiracy', 'statements and b if so', 'to ask itself whether it', 'assertion items and furnishing the', 'remarks by mcgee items and', 'purpose or a lawful purpose', 'and to prove that defendant', 'that defendant knew of the', 'to find guilt beyond a', 'a mutually implied understanding between', 'supra state v armijo supra', 'v dodge country inc nm', 'crime charged the factfinders role', 'resolve conflicts in the testimony', 'in this paragraph when considered', 'understanding is sufficient to establish', 'and sentences are reversed the', 'sufficiency of the evidence under', 'must be not simply to', 'acts defendant suggests this distinction', 'existence of insurance and thus', 'reverse the convictions under both', 'through a legal conclusion that', 'death insurance the foregoing testimony', 'with attempted murder in the', 'of the conspiracy independent of', 'to act in the graver', 'leach cald calrptr pd the', 'as to the wifes route', 'for conspiracy to commit first', 'degree murder is at most', 'attempt in the matter involving', 'at most a derivative liability', 'the dispositive issue in defendants', 'trier of fact fairly to', 'role as weigher of the', 'evidence of mcgees statements if', 'admitting mcgees statements sufficiency of', 'insurance according to ortiz mcgee', 'legal conclusion that upon judicial', 'people v leach cald calrptr'}\n",
      "\n",
      "\u001b[1m 5 hashed words shingles in opinion 1577349\u001b[0m\n",
      "{372334594, 985382928, 1037058067, 4032708634, 315719716, 1311252520, 1721319465, 4106043447, 3158597690, 1298415677, 100417599, 3754639427, 267354183, 2174804044, 2497298508, 3528269906, 1294786644, 3725017180, 3372015712, 2673688674, 3576037476, 3451109484, 1032790125, 4246773887, 2369757312, 811860099, 2494840966, 3393167504, 1917386901, 1736384664, 2202747043, 2530590886, 967245991, 4154138793, 2914689196, 2132721839, 3376234673, 2448433330, 3446251699, 1668497588, 2400370882, 4221198532, 1710514377, 1307099337, 4044824788, 2652102868, 1733542117, 4047978728, 2962866410, 2720628973, 3131097325, 861618416, 3229483250, 3886907637, 3724443898, 2701033726, 1818067200, 1144946950, 2952388873, 2517401870, 3931726096, 2867003664, 4096270614, 562766103, 21487901, 1831747870, 1465426209, 2240618786, 3024159014, 3284787497, 2436571438, 1532215598, 2318164270, 4133331250, 4068319539, 2299027765, 263029048, 2314879292, 185377096, 2902819149, 4012835151, 1034838366, 220447073, 1083965808, 398082419, 548651382, 2038497655, 2829197700, 2495299972, 3922977160, 3418644885, 428720545, 3565207973, 1917411749, 482386343, 512475557, 2173026734, 767599025, 39281075, 2446827956, 3045622198, 494166455, 742826429, 2989679040, 3176653256, 2067169737, 2334835144, 960201163, 170672589, 2561622478, 1342276048, 404160976, 3954180562, 3592495570, 323813847, 1841136089, 199590362, 2500297182, 3844743653, 537657839, 4219544047, 2794988016, 1580253684, 2200216063, 2581389836, 2767667738, 4134273566, 2786828834, 2698314302, 2038891073, 66265674, 1867219532, 4091814477, 4214112849, 1702691411, 4146332247, 3721445981, 3605389919, 1460814435, 3541312100, 2628158064, 2523210353, 2166907507, 3966362236, 4007215743, 2749153920, 2418524807, 2068546183, 1002300042, 4203995786, 30327436, 1337606798, 1484137113, 692798106, 1634411163, 1216209564, 1027097247, 1189454498, 694035106, 2783380134, 3475874470, 584934058, 1607508653, 2400314030, 961307315, 1907106485, 1841906357, 234021560, 2796954298, 823542464, 3622527689, 3857236683, 2668626654, 2452398816, 1142727399, 138371817, 3353936619, 706618096, 4130439921, 4141023992, 3340346104, 4035592956, 2570044157, 2514559768, 1317208856, 3747660570, 4073800479, 1823687465, 1467515709, 1181999939, 913130309, 10330951, 2481431371, 108184397, 3665347406, 3315434322, 3112887123, 770655073, 2681791330, 2813043555, 823165796, 527262568, 1272120181, 4021273466, 3124708222, 3342926724, 3667403653, 792748948, 1684546455, 2276639640, 3956450203, 4039902114, 993960866, 590980005, 3628368806, 2968888234, 3932980138, 2119222195, 2030191555, 1338303428, 2453717957, 3958604742, 1828455368, 100115403, 606233549, 2121786320, 2600944603, 1148232672, 1100571635, 3682198521, 661505039, 538207250, 1606684, 2174886944, 2485789736, 2371265576, 840115243, 1998308398, 727106615, 430285893, 2015183944, 3617080397, 3656901714, 1482392659, 3224585300, 185263188, 608183389, 2374427744, 2167596131, 1051968615, 93324393, 3194725483, 2181039216, 915129457, 395215987, 2577851511, 2953749627, 746882176, 2971780230, 1291994253, 3766060178, 1937712278, 3221521558, 1400071329, 1727530148, 2165712057, 2165884093, 2002478271, 1020478664, 2007213266, 1681990872, 3288048858, 1088029924, 4055860456, 1090241783, 544040187, 3123807483, 1397695745, 2949768451, 1346331909, 3535136010, 4031784206, 1971897618, 1816954131, 931226900, 2903786774, 1704879392, 3184436516, 582034726, 973620521, 3726853420, 3459974453, 1907467575, 1946494273, 1762534722, 2352776517, 388834638, 1809360209, 2263967067, 782050652, 3038094693, 3077219698, 2659108211, 3519153526, 4203455862, 4146677114, 356230525, 3982058880, 3761907084, 1579574677, 1793246617, 3076457883, 2374477215, 2408228259, 1736910244, 2705155495, 1582310828, 328787380, 4079519156, 3560375736, 1795024312, 465667516, 142230984, 744465874, 672204247, 3562792412, 2766611933, 1961297378, 1169565156, 1350690281, 1787332073, 803464688, 3177965047, 3924534780, 3108742662, 3911198216, 2846721549, 2600977933, 3393791509, 2142430742, 780985879, 3843499545, 935634490, 3429041725, 3633112645, 1904272966, 2443757129, 2857707081, 1579910731, 1919075917, 703891035, 482117215, 4084696671, 543376995, 3269011051, 1774790259, 2232772215, 1305101946, 4178232956, 1007363711, 1322256013, 1720403600, 3970492057, 3786761882, 3842123418, 2153334434, 286566054, 4128253607, 3234219687, 3259680423, 1730512574, 1048864450, 3499599558, 3946645201, 2932590290, 824878806, 3112617686, 1016923864, 2370373338, 3829597922, 2534622947, 4277135080, 2708596462, 1132988144, 3859785463, 3591751416, 2481972990, 681215743, 266430207, 1968129800, 106612496, 1694770973, 2547812132, 486614820, 1027737382, 1349289770, 2663720747, 2403510061, 2694285104, 246155065, 1636550459, 2689173309, 76965694, 2691098431, 3455280957, 4178618187, 463054670, 1325819728, 987727698, 2930714451, 1370023768, 3122104165, 3239675750, 909035369, 298256233, 1182918508, 1723836275, 4069574518, 3301468032, 4116834182, 237037457, 392054687, 19728291, 105457574, 2187151280, 2501683123, 3094874040, 2596816824, 3049260993, 3563481025, 3504859076, 3592497094, 1286875092, 3009365974, 2851637206, 1088333782, 3423823837, 2711087069, 1281116130, 1903134701, 3111053300, 501073908, 3487909876, 1138427899, 2075183111, 2465859600, 391743507, 1314334741, 3018000407, 69675033, 1200687130, 2651727907, 3300042787, 1345964071, 1674168367, 12757040, 1829292079, 3486713909, 3976939577, 3068332112, 2283989076, 3528001626, 1526884445, 3978324066, 2703525986, 1810884713, 2605328489, 415705197, 2894669937, 2219739253, 2201749622, 478382201, 2586077311, 678865025, 3440494724, 3496519813, 3824617606, 4036667528, 2525522059, 1212147853, 4188121229, 200910996, 3182676121, 2867832989, 3604310177, 488761506, 62908579, 3361319084, 1347422382, 1599842481, 1829210289, 3482593459, 1663166642, 1430063285, 921004218, 3693226172, 2422270141, 1606437058, 687024329, 933603532, 3971696852, 2167285974, 1040484567, 1497286875, 3764881627, 812648669, 3054733535, 2423474400, 2003052772, 1258555623, 4028393706, 315287791, 1199991024, 2998339836, 4041025792, 2864507137, 1294510338, 4205725961, 582322454, 1558898977, 4267731235, 3393915177, 737610033, 3887778107, 894077246, 1599514942, 4035823939, 1269516616, 1940744529, 4024502611, 2840627540, 582633812, 4047522133, 2094786918, 2589141350, 3656247656, 3125840233, 3803375979, 2083514736, 1992518001, 936716661, 4071254391, 3080309119, 1137543556, 3081054601, 3897264523, 1754073485, 2588305806, 2691893647, 3581135252, 3538504087, 49580445, 2291239327, 3028781474, 3859835301, 1926621621, 1769081287, 2577983943, 156428746, 1607592395, 4080773584, 447269332, 3697977816, 72542680, 2819992043, 3233933806, 3906570736, 643426806, 2662361603, 2470857222, 2623539720, 1566124557, 1135921678, 2372438543, 689465872, 822995472, 624355859, 3915803162, 3360688671, 727878178, 2384570921, 109824553, 3893832234, 2563156528, 1424214577, 3842017844, 2759748150, 2082425400, 440109624, 485321277, 3075820095, 4211370561, 1710639688, 2183637580, 3719490125, 3243706956, 4126149200, 817703524, 1706027624, 2991401585, 3814140536, 837642879, 2738850436, 2925202054, 873876109, 3847719568, 1096641174, 1232300694, 3874097821, 2884643502, 4077578927, 3786779310, 4068412092, 3179645630, 3211889352, 1965345485, 3432188626, 2347682521, 3452914397, 1863912169, 101239539, 744729333, 1147366138, 1977076477, 2809621249, 2513169159, 2469268238, 3249163023, 1793207056, 200084241, 1626409745, 1015032606, 2919115551, 766225185, 2232445729, 2580900647, 2693335850, 3554470711, 515975993, 4236102459, 3816524608, 2015324996, 1158138701, 2248158030, 2243865423, 1016269648, 3865439060, 1515006813, 2895121245, 1641548647, 492268394, 1809697644, 2096040817, 3577432946, 2812619635, 641084278, 1347890038, 192506751, 1043180434, 4032482195, 3662162836, 1636690844, 1286319006, 1752214434, 100379555, 2007468964, 1370098596, 4276505516, 372747184, 3428191152, 69487539, 615009212, 1285123004, 2922130375, 3325152200, 1671195593, 2490461135, 3529214932, 245451737, 493931488, 768723936, 504081380, 2093657061, 1801505772, 2463992817, 3573967858, 2988485630, 3729869823, 1248717826, 1982680073, 4013304841, 22064159, 114330664, 3327527982, 3061132340, 2526260276, 2769833014, 732720185, 265915449, 1535618107, 1579559998, 3065269320, 420023369, 468053074, 154807382, 2822089824, 2181147747, 2702675050, 3875687533, 4197149807, 1668869234, 254020726, 3212348551, 1611984008, 3435678863, 1457237159, 1244245164, 1289637037, 4005145784, 2153123009, 1778650307, 1193192644, 3812199620, 3527175372, 359034060, 2095934671, 4119211216, 1348783317, 1072049369, 930622690, 1685318883, 3321785572, 3225267434, 3922341105, 3247418614, 313806071, 2442046721, 2663075075, 3943279877, 364449030, 1096854795, 1802054930, 498822421, 2588323095, 4284714267, 169225517, 4239363374, 494636333, 4293152057, 1759243577, 346361155, 2292223300, 1163398475, 2332061014, 1873055065, 1013919076, 2001096044, 2449894769, 1231777139, 1975201140, 881094006, 2267098494, 3401665919, 442764675, 3953364358, 3185757580, 2665188761, 1667255708, 1290096029, 2501807519, 3891547571, 1863257527, 94236091, 3364277696, 248032705, 3559026116, 1280789969, 1812295121, 392867286, 2590027226, 820481499, 3421089244, 3425783274, 407899626, 3452390894, 4164300273, 1877822963, 3334835699, 3081285111, 1943170553, 83848702, 292548103, 2908319249, 3175230995, 3893300755, 3462237720, 1889676826, 3458985498, 2403970590, 775376416, 765120037, 569888307, 55610942, 1435815486, 2813226560, 1318866499, 2712497734, 2209156679, 2872192592, 253062737, 3373207132, 3687911005, 3365752417, 3395481185, 1204506230, 3664465528, 106311289, 1884016271, 1380404886, 2957217443, 3231829669, 334106278, 3825348261, 4233612968, 1648996015, 1403719344, 2320699061, 1200123575, 1684721338, 2887716539, 58674881, 2093362883, 823004873, 255233749, 1107218137, 3479629532, 978661092, 2909785839, 161509106, 1100328690, 2102472447, 3095596809, 1342959370, 1602924308, 2498162454, 133369637, 3422605095, 2356621100, 153825071, 3825299251, 432721717, 48992060, 1303940929, 444649284, 1445064527, 47730514, 4231466841, 154652513, 2760290153, 202624873, 534507373, 2460864367, 2117627762, 2335559540, 1364266869, 3767168888, 2583572352, 419221377, 3072929682, 3664416668, 58429341, 3051368357, 409702325, 3311136693, 59486137, 438480842, 448262094, 2772742094, 3934678992, 1284132830, 732270566, 4200296428, 621187053, 3215470574, 2363346942, 1176899589, 1566355461, 40046598, 1489596430, 1760563214, 3562426386, 2534330389, 3861942296, 3484217380, 1462743077, 2149044263, 2868547625, 965087276, 2650337326, 911290422, 2783637564, 233943101, 3996954686, 2001915971, 78475337, 3061854285, 1166938190, 976318543, 3708309584, 1825722446, 2140385366, 1904570455, 390729816, 763957337, 1346236508, 1064325217, 1587343458, 624504932, 2454745198, 1482862704, 2016702576, 2213294195, 1223929973, 564621429, 679260279, 3001593976, 2669711492, 1940582534, 3666096268, 1669197967, 1478660246, 3920449688, 1882820762, 3384103066, 3045970077, 3217846442, 1032859818, 1423200428, 2468868268, 265113780, 3730526393, 2324959426, 1775767747, 298184900, 1355944134, 3443978439, 3105919193, 4160876765, 202059999, 3884642534, 1287868646, 4227035367, 974311664, 4184625392, 3901067509, 1561260283, 257388797, 3873755390, 2476642563, 1311437061, 2054705417, 650719500, 1221767436, 1645031707, 2914210078, 2339721506, 3957690658, 503279912, 3117887785, 209359149, 2223616306, 810586436, 4041052485, 1662939467, 1867206987, 3324440916, 1711190356, 777949526, 3791860073, 2167755113, 3348558188, 2688430451, 3472667003, 1162203522, 782659972, 1435324805, 4028354952, 1439625611, 3689050507, 1094832531, 3016872348, 2000318878, 528052643, 3048173988, 548811179, 3097391531, 231723443, 920408500, 1514033597, 332861888, 165532103, 2000884167, 741970388, 3066065374, 4116222434, 940741095, 4187320815, 2887283185, 405098997, 422179323, 724406780, 3254145541, 1902129678, 272364068, 3497972263, 1653969459, 3336106552, 3059683896, 1998770751, 1525101124, 839914052, 1944261188, 3404206671, 1162162773, 1865249368, 826356313, 785150554, 3679040092, 400069213, 2971275876, 1916654180, 3686322793, 3071251050, 1466159727, 299676273, 2943373941, 691286649, 741757561, 480539258, 3800666748, 4034957951, 3383472769, 1041240707, 3697152649, 471601807, 923013780, 2014900892, 624824996, 4116804271, 1220596402, 415756979, 1559433909, 3533673143, 538333883, 3636466366, 2790331071, 3997766338, 343757507, 3673895625, 2801832654, 515592910, 2821247705, 1985614554, 1517736672, 3640201959, 3814888167, 1730712309, 2780877558, 2398851845, 4046304014, 909185817, 4141060890, 3857290010, 3349418782, 648540963, 54825770, 2675921714, 2982286134, 2966516536, 1273197374, 3414119230, 2577306430, 1958302548, 649515866, 1557910362, 2899145565, 1407718242, 2868589434, 1551913852, 4099191681, 909554580, 2849395608, 2985808793, 2379142040, 3321541532, 2287440800, 3501241256, 3995636655, 206590901, 1240052677, 3689681868, 4244779987, 3143193558, 4275770332, 1695405039, 2779665391, 2606420979, 2674635771, 3903902717, 293655549, 4165448708, 2597491718, 2277323802, 3351311387, 3880006688, 321041453, 3413349425, 3359626296, 2777257016, 2912212029, 547902525, 1859130435, 3747861575, 229602377, 1854002255, 1935201367, 2615432296, 3404362864, 2490496117, 2919068802, 933303432, 2999981196, 1600132237, 473191567, 3665130639, 1210324117, 2368115862, 486274199, 380507294, 2145703073, 2439877795, 3325580452, 2943612068, 1370682539, 3111605423, 736957616, 4187157681, 3756709044, 1351111862, 173569207, 1870009530, 2283754688, 2873857217, 3439809731, 27825350, 1735005385, 205714638, 1104737488, 2452772057, 4146238681, 1348334812, 2683180253, 440538332, 770151652, 4043576552, 2077996265, 166868212, 1510790393, 3822417145, 1958950146, 1484272900, 299005197, 3309344019, 613291283, 2436363573, 2955375925, 2510206276, 3380802888, 2276169033, 2921510219, 2792543566, 1690457429, 2094970203, 1735333216, 1723053412, 3140236663, 3282515324, 3913373056, 3581998476, 3163092369, 515675539, 3836908951, 1794192804, 1157682604, 3486725551, 119633333, 1529656768, 3848197576, 2991551950, 4035540437, 3524670938, 2213983714, 1163539942, 3653481960, 1333753324, 2258941428, 1075426806, 248247801, 1885599230, 3755374079, 3839366662, 925644302, 2179962384, 3043776017, 93255188, 1238365722, 3439932961, 2825524777, 804099627, 2228344365, 995096112, 2355058226, 2123224627, 3852654139, 516773436, 1973753404, 1015199295, 2072974915, 892409413, 3462936145, 2609264211, 3008484953, 48739940, 1821668979, 437458548, 4226119294, 1217648255, 2250782336, 2317956745, 1125619342, 2227639969, 3231143586, 1592964774, 1168062131, 1005852345, 3373946559, 2601105089, 1170388677, 2190030535, 4120950479, 2910017233, 1678448344, 3550500569, 3024500440, 361952993, 2720036580, 3695965927, 3368695531, 3794507505, 1498986227, 1873966839, 464074490, 3951466237, 3836352257, 1626461960, 2662889225, 3710957326, 546600719, 1287591697, 2421774098, 3279615767, 509114143, 3710293799, 790886184, 1098618667, 1189295922, 4040554307, 3110950734, 1067472723, 4014765907, 1497266007, 597800805, 202127212, 3741914995, 577132405, 2694436736, 1768781712, 2015844246, 1822037911, 2591111069, 4266194847, 3827488672, 3495434148, 911800230, 7698344, 2729916328, 1815459757, 2242983861, 1774679998, 3366197183, 4022802368, 1436293058, 149018566, 955004875, 1711503308, 2294298580, 3702077403, 4109965277, 2059982815, 1949825007, 3080206320, 2226542582, 1898477574, 1459771404, 2899179535, 2609051664, 233936912, 3852458002, 4036384788, 4014299170, 1052162089, 646109225, 90667052, 3225311282, 881571901, 404600906, 2985572426, 1398069328, 3538516048, 1039218773, 3525531738, 1686141021, 3064272993, 1781725282, 670750819, 4223613034, 619354220, 1200494701, 1999026289, 4274559090, 1729026165, 1921620086, 3238451326, 3269023871, 2786556035, 3735672971, 3418740875, 2254510231, 350746780, 1183324318, 1056528561, 1903638717, 1272748222, 4142233789, 3575552189, 2331195596, 1771272398, 88996049, 2692020435, 1509505240, 3702986971, 1852766428, 3594664158, 1512118497, 4037089508, 3163584747, 1488091376, 3361560816, 22321395, 2264652027, 2870221052, 44865792, 1056684294, 3507763463, 501119240, 3236239625, 503413013, 1729018146, 3607804200, 3485940011, 3399645485, 2925639983, 2031081778, 1802352948, 817297724, 299137346, 3737024836, 1547852106, 3439663436, 2361424206, 2533038415, 1983723858, 1111849313, 1146313062, 65001835, 3036789104, 3949934964, 2384107927, 744028568, 2490997145, 3011795358, 1168751011, 3877714343, 1663981994, 3889437099, 927136183, 3360012733, 2646202822, 230496712, 3046062544, 1562114514, 1997846997, 816789979, 1526512101, 1779522033, 2514532860, 1904097789, 875444733, 2111085062, 2170206736, 3070081558, 3772324374, 3898915354, 3267410460, 2718276129, 613513762, 1119812131, 844397093, 1561852454, 275937833, 3528071738, 637090364, 3544734270, 3403020871, 3197770317, 399776334, 1318001233, 2274007635, 3325311573, 1804687965, 737458783, 1961237114, 4029495951, 122952338, 3329522323, 1710021279, 49691296, 1011972773, 3193698989, 2496666287, 4227676853, 1653332663, 3906550475, 3454417614, 3244677849, 3018537695, 1947187940, 1911618279, 1699519213, 2539821808, 3026041586, 2991733492, 3123067637, 2885835509, 1537260288, 2498026242, 1074420489, 1262992138, 3653892898, 538008355, 1606228782, 1444789063, 1625348936, 2754100043, 841644879, 1138727762, 1026382675, 2218130260, 888404822, 3238533975, 2042690393, 1611930481, 3721829235, 2269780854, 3606322041, 3844610939, 2993527678, 3508157317, 870062983, 100858765, 1170938774, 1582037913, 1741978521, 1811143584, 1287003042, 2818784167, 3546323885, 2740149165, 554761135, 3800202158, 3093404596, 1779489717, 2642598838, 1271929786, 2026453946, 1347886015, 29285311, 2183969741, 3179740111, 1824725969, 3351428050, 4263230419, 2144893909, 3107412951, 1438055390, 1027824611, 2506030053, 2586672103, 2802834408, 1416346601, 491838452, 516275190, 1765727234, 1052580867, 3502390284, 3468557332, 1471486999, 2929310747, 3055647779, 3741572136, 3355450408, 1016945710, 3628973108, 3677666366, 582409278, 623705160, 1011702856, 2581838925, 1983519827, 1551932500, 2869050452, 221543510, 697007191, 2590219351, 1398783067, 3616267356, 2797780062, 905649252, 4200234087, 520936558, 2642148473, 730111101, 3429981320, 499891342, 1679383695, 1503935633, 4179549332, 2062630045, 4043349152, 1120607393, 2604235937, 2681920675, 113204390, 3108330675, 3894312125, 1305287887, 676535510, 2778946777, 170630363, 1532460253, 1975098590, 1663286493, 1860050144, 1305959651, 3705601256, 3856915692, 2476375276, 550493431, 2104900863, 4207860992, 3623902464, 551935236, 2983771405, 164642062, 2124807439, 2443558165, 2511125784, 3966188824, 873643292, 1599454492, 3925007648, 2313960739, 1523809574, 2218491187, 620313911, 3462733112, 706641211, 218815804, 2711903549, 291142975, 3699547458, 4189281604, 2968804691, 3993943392, 1076944226, 3537263972, 702684518, 3366215017, 1335721323, 4079983979, 1595440502, 4211432824, 263732602, 328981884, 1394761088, 147692935, 487079305, 2019515787, 1062976909, 811752852, 2659360151, 1595817371, 2372803998, 3085213093, 1247591845, 3185499561, 1306852778, 3849657771, 2081193393, 3962437042, 2758565299, 3506486708, 1273789881, 2752863677, 959970753, 414784964, 312729041, 2401320401, 479321558, 168107481, 444415455, 1089240552, 679566827, 486948335, 301317617, 2086944250, 2613083648, 3534626308, 3537534500, 1060437542, 1064386086, 1946590762, 964001329, 3369139769, 1185234491, 2642263614, 2182946373, 2803433031, 4138376776, 3775577671, 1552498254, 2866732625, 2835791450, 2186436190, 828431967, 3402890850, 2060484200, 2320735851, 2282356333, 364535415, 323698298, 251395709, 1992343167, 1766448777, 992476814, 930823825, 3298623131, 4124524187, 1122778787, 1997323940, 2845728422, 3674447527, 2956934836, 1598480059, 3852541638, 3896139463, 462773961, 916430540, 108535523, 3468205796, 145702627, 2796338919, 684801774, 3066552049, 782704376, 3117407992, 1924644601, 2874228474, 4069637884, 2968026874, 2844753662, 1492115203, 3854155528, 2235752211, 2412461844, 4177821481, 898547503, 1295761200, 1664540470, 2025807677, 4217257791, 2695814978, 1008484165, 1067671365, 3565739858, 1501200211, 2804555608, 233914201, 1195564901, 2726764390, 3431841642, 2797617006, 3693928304, 1817362291, 2374942583, 46677881, 3965468544, 1552916356, 2727862149, 3796868998, 3537969033, 2597724044, 4245921683, 2311659411, 1510989716, 1982816154, 1926569883, 1426612124, 1042055080, 4206337961, 344309676, 2984263596, 3120807855, 4004593584, 1218830255, 3247300531, 1376960440, 1558953913, 2358845375, 1010737089, 2477621187, 544833477, 1904058310, 2099806150, 1336328137, 2127544270, 1468948454, 174940135, 552525802, 3459981294, 1687257073, 3674710002, 6578165, 1697685495, 1560748031}\n"
     ]
    }
   ],
   "source": [
    "if True: \n",
    "    print(\"BEFORE\\n\")\n",
    "    sample_ID, sample_opinion = random.choice(list(author_dict.items()))\n",
    "    opinion1 = list(raw_df[raw_df['case_id'] == sample_ID]['opinion'])\n",
    "    #print(opinion1)\n",
    "    print(f'\\n\\033[1m {shingle_size} words shingles in opinion {sample_ID}\\033[0m')\n",
    "    print(docsAsShingleWSets[sample_ID])\n",
    "    print()\n",
    "    print(f'\\033[1m {shingle_size} hashed words shingles in opinion {sample_ID}\\033[0m')\n",
    "    print(docsAsShingleSets[sample_ID])"
   ]
  },
  {
   "cell_type": "code",
   "execution_count": 16,
   "id": "fc213719",
   "metadata": {},
   "outputs": [
    {
     "name": "stdout",
     "output_type": "stream",
     "text": [
      "\u001b[1mTotal shingles:\u001b[0m  1765\n",
      "\n",
      "\u001b[1mHashed shingles:\u001b[0m\n",
      "{372334594, 985382928, 1037058067, 4032708634, 315719716, 1311252520, 1721319465, 4106043447, 3158597690, 1298415677, 100417599, 3754639427, 267354183, 2174804044, 2497298508, 3528269906, 1294786644, 3725017180, 3372015712, 2673688674, 3576037476, 3451109484, 1032790125, 4246773887, 2369757312, 811860099, 2494840966, 3393167504, 1917386901, 1736384664, 2202747043, 2530590886, 967245991, 4154138793, 2914689196, 2132721839, 3376234673, 2448433330, 3446251699, 1668497588, 2400370882, 4221198532, 1710514377, 1307099337, 4044824788, 2652102868, 1733542117, 4047978728, 2962866410, 2720628973, 3131097325, 861618416, 3229483250, 3886907637, 3724443898, 2701033726, 1818067200, 1144946950, 2952388873, 2517401870, 3931726096, 2867003664, 4096270614, 562766103, 21487901, 1831747870, 1465426209, 2240618786, 3024159014, 3284787497, 2436571438, 1532215598, 2318164270, 4133331250, 4068319539, 2299027765, 263029048, 2314879292, 185377096, 2902819149, 4012835151, 1034838366, 220447073, 1083965808, 398082419, 548651382, 2038497655, 2829197700, 2495299972, 3922977160, 3418644885, 428720545, 3565207973, 1917411749, 482386343, 512475557, 2173026734, 767599025, 39281075, 2446827956, 3045622198, 494166455, 742826429, 2989679040, 3176653256, 2067169737, 2334835144, 960201163, 170672589, 2561622478, 1342276048, 404160976, 3954180562, 3592495570, 323813847, 1841136089, 199590362, 2500297182, 3844743653, 537657839, 4219544047, 2794988016, 1580253684, 2200216063, 2581389836, 2767667738, 4134273566, 2786828834, 2698314302, 2038891073, 66265674, 1867219532, 4091814477, 4214112849, 1702691411, 4146332247, 3721445981, 3605389919, 1460814435, 3541312100, 2628158064, 2523210353, 2166907507, 3966362236, 4007215743, 2749153920, 2418524807, 2068546183, 1002300042, 4203995786, 30327436, 1337606798, 1484137113, 692798106, 1634411163, 1216209564, 1027097247, 1189454498, 694035106, 2783380134, 3475874470, 584934058, 1607508653, 2400314030, 961307315, 1907106485, 1841906357, 234021560, 2796954298, 823542464, 3622527689, 3857236683, 2668626654, 2452398816, 1142727399, 138371817, 3353936619, 706618096, 4130439921, 4141023992, 3340346104, 4035592956, 2570044157, 2514559768, 1317208856, 3747660570, 4073800479, 1823687465, 1467515709, 1181999939, 913130309, 10330951, 2481431371, 108184397, 3665347406, 3315434322, 3112887123, 770655073, 2681791330, 2813043555, 823165796, 527262568, 1272120181, 4021273466, 3124708222, 3342926724, 3667403653, 792748948, 1684546455, 2276639640, 3956450203, 4039902114, 993960866, 590980005, 3628368806, 2968888234, 3932980138, 2119222195, 2030191555, 1338303428, 2453717957, 3958604742, 1828455368, 100115403, 606233549, 2121786320, 2600944603, 1148232672, 1100571635, 3682198521, 661505039, 538207250, 1606684, 2174886944, 2485789736, 2371265576, 840115243, 1998308398, 727106615, 430285893, 2015183944, 3617080397, 3656901714, 1482392659, 3224585300, 185263188, 608183389, 2374427744, 2167596131, 1051968615, 93324393, 3194725483, 2181039216, 915129457, 395215987, 2577851511, 2953749627, 746882176, 2971780230, 1291994253, 3766060178, 1937712278, 3221521558, 1400071329, 1727530148, 2165712057, 2165884093, 2002478271, 1020478664, 2007213266, 1681990872, 3288048858, 1088029924, 4055860456, 1090241783, 544040187, 3123807483, 1397695745, 2949768451, 1346331909, 3535136010, 4031784206, 1971897618, 1816954131, 931226900, 2903786774, 1704879392, 3184436516, 582034726, 973620521, 3726853420, 3459974453, 1907467575, 1946494273, 1762534722, 2352776517, 388834638, 1809360209, 2263967067, 782050652, 3038094693, 3077219698, 2659108211, 3519153526, 4203455862, 4146677114, 356230525, 3982058880, 3761907084, 1579574677, 1793246617, 3076457883, 2374477215, 2408228259, 1736910244, 2705155495, 1582310828, 328787380, 4079519156, 3560375736, 1795024312, 465667516, 142230984, 744465874, 672204247, 3562792412, 2766611933, 1961297378, 1169565156, 1350690281, 1787332073, 803464688, 3177965047, 3924534780, 3108742662, 3911198216, 2846721549, 2600977933, 3393791509, 2142430742, 780985879, 3843499545, 935634490, 3429041725, 3633112645, 1904272966, 2443757129, 2857707081, 1579910731, 1919075917, 703891035, 482117215, 4084696671, 543376995, 3269011051, 1774790259, 2232772215, 1305101946, 4178232956, 1007363711, 1322256013, 1720403600, 3970492057, 3786761882, 3842123418, 2153334434, 286566054, 4128253607, 3234219687, 3259680423, 1730512574, 1048864450, 3499599558, 3946645201, 2932590290, 824878806, 3112617686, 1016923864, 2370373338, 3829597922, 2534622947, 4277135080, 2708596462, 1132988144, 3859785463, 3591751416, 2481972990, 681215743, 266430207, 1968129800, 106612496, 1694770973, 2547812132, 486614820, 1027737382, 1349289770, 2663720747, 2403510061, 2694285104, 246155065, 1636550459, 2689173309, 76965694, 2691098431, 3455280957, 4178618187, 463054670, 1325819728, 987727698, 2930714451, 1370023768, 3122104165, 3239675750, 909035369, 298256233, 1182918508, 1723836275, 4069574518, 3301468032, 4116834182, 237037457, 392054687, 19728291, 105457574, 2187151280, 2501683123, 3094874040, 2596816824, 3049260993, 3563481025, 3504859076, 3592497094, 1286875092, 3009365974, 2851637206, 1088333782, 3423823837, 2711087069, 1281116130, 1903134701, 3111053300, 501073908, 3487909876, 1138427899, 2075183111, 2465859600, 391743507, 1314334741, 3018000407, 69675033, 1200687130, 2651727907, 3300042787, 1345964071, 1674168367, 12757040, 1829292079, 3486713909, 3976939577, 3068332112, 2283989076, 3528001626, 1526884445, 3978324066, 2703525986, 1810884713, 2605328489, 415705197, 2894669937, 2219739253, 2201749622, 478382201, 2586077311, 678865025, 3440494724, 3496519813, 3824617606, 4036667528, 2525522059, 1212147853, 4188121229, 200910996, 3182676121, 2867832989, 3604310177, 488761506, 62908579, 3361319084, 1347422382, 1599842481, 1829210289, 3482593459, 1663166642, 1430063285, 921004218, 3693226172, 2422270141, 1606437058, 687024329, 933603532, 3971696852, 2167285974, 1040484567, 1497286875, 3764881627, 812648669, 3054733535, 2423474400, 2003052772, 1258555623, 4028393706, 315287791, 1199991024, 2998339836, 4041025792, 2864507137, 1294510338, 4205725961, 582322454, 1558898977, 4267731235, 3393915177, 737610033, 3887778107, 894077246, 1599514942, 4035823939, 1269516616, 1940744529, 4024502611, 2840627540, 582633812, 4047522133, 2094786918, 2589141350, 3656247656, 3125840233, 3803375979, 2083514736, 1992518001, 936716661, 4071254391, 3080309119, 1137543556, 3081054601, 3897264523, 1754073485, 2588305806, 2691893647, 3581135252, 3538504087, 49580445, 2291239327, 3028781474, 3859835301, 1926621621, 1769081287, 2577983943, 156428746, 1607592395, 4080773584, 447269332, 3697977816, 72542680, 2819992043, 3233933806, 3906570736, 643426806, 2662361603, 2470857222, 2623539720, 1566124557, 1135921678, 2372438543, 689465872, 822995472, 624355859, 3915803162, 3360688671, 727878178, 2384570921, 109824553, 3893832234, 2563156528, 1424214577, 3842017844, 2759748150, 2082425400, 440109624, 485321277, 3075820095, 4211370561, 1710639688, 2183637580, 3719490125, 3243706956, 4126149200, 817703524, 1706027624, 2991401585, 3814140536, 837642879, 2738850436, 2925202054, 873876109, 3847719568, 1096641174, 1232300694, 3874097821, 2884643502, 4077578927, 3786779310, 4068412092, 3179645630, 3211889352, 1965345485, 3432188626, 2347682521, 3452914397, 1863912169, 101239539, 744729333, 1147366138, 1977076477, 2809621249, 2513169159, 2469268238, 3249163023, 1793207056, 200084241, 1626409745, 1015032606, 2919115551, 766225185, 2232445729, 2580900647, 2693335850, 3554470711, 515975993, 4236102459, 3816524608, 2015324996, 1158138701, 2248158030, 2243865423, 1016269648, 3865439060, 1515006813, 2895121245, 1641548647, 492268394, 1809697644, 2096040817, 3577432946, 2812619635, 641084278, 1347890038, 192506751, 1043180434, 4032482195, 3662162836, 1636690844, 1286319006, 1752214434, 100379555, 2007468964, 1370098596, 4276505516, 372747184, 3428191152, 69487539, 615009212, 1285123004, 2922130375, 3325152200, 1671195593, 2490461135, 3529214932, 245451737, 493931488, 768723936, 504081380, 2093657061, 1801505772, 2463992817, 3573967858, 2988485630, 3729869823, 1248717826, 1982680073, 4013304841, 22064159, 114330664, 3327527982, 3061132340, 2526260276, 2769833014, 732720185, 265915449, 1535618107, 1579559998, 3065269320, 420023369, 468053074, 154807382, 2822089824, 2181147747, 2702675050, 3875687533, 4197149807, 1668869234, 254020726, 3212348551, 1611984008, 3435678863, 1457237159, 1244245164, 1289637037, 4005145784, 2153123009, 1778650307, 1193192644, 3812199620, 3527175372, 359034060, 2095934671, 4119211216, 1348783317, 1072049369, 930622690, 1685318883, 3321785572, 3225267434, 3922341105, 3247418614, 313806071, 2442046721, 2663075075, 3943279877, 364449030, 1096854795, 1802054930, 498822421, 2588323095, 4284714267, 169225517, 4239363374, 494636333, 4293152057, 1759243577, 346361155, 2292223300, 1163398475, 2332061014, 1873055065, 1013919076, 2001096044, 2449894769, 1231777139, 1975201140, 881094006, 2267098494, 3401665919, 442764675, 3953364358, 3185757580, 2665188761, 1667255708, 1290096029, 2501807519, 3891547571, 1863257527, 94236091, 3364277696, 248032705, 3559026116, 1280789969, 1812295121, 392867286, 2590027226, 820481499, 3421089244, 3425783274, 407899626, 3452390894, 4164300273, 1877822963, 3334835699, 3081285111, 1943170553, 83848702, 292548103, 2908319249, 3175230995, 3893300755, 3462237720, 1889676826, 3458985498, 2403970590, 775376416, 765120037, 569888307, 55610942, 1435815486, 2813226560, 1318866499, 2712497734, 2209156679, 2872192592, 253062737, 3373207132, 3687911005, 3365752417, 3395481185, 1204506230, 3664465528, 106311289, 1884016271, 1380404886, 2957217443, 3231829669, 334106278, 3825348261, 4233612968, 1648996015, 1403719344, 2320699061, 1200123575, 1684721338, 2887716539, 58674881, 2093362883, 823004873, 255233749, 1107218137, 3479629532, 978661092, 2909785839, 161509106, 1100328690, 2102472447, 3095596809, 1342959370, 1602924308, 2498162454, 133369637, 3422605095, 2356621100, 153825071, 3825299251, 432721717, 48992060, 1303940929, 444649284, 1445064527, 47730514, 4231466841, 154652513, 2760290153, 202624873, 534507373, 2460864367, 2117627762, 2335559540, 1364266869, 3767168888, 2583572352, 419221377, 3072929682, 3664416668, 58429341, 3051368357, 409702325, 3311136693, 59486137, 438480842, 448262094, 2772742094, 3934678992, 1284132830, 732270566, 4200296428, 621187053, 3215470574, 2363346942, 1176899589, 1566355461, 40046598, 1489596430, 1760563214, 3562426386, 2534330389, 3861942296, 3484217380, 1462743077, 2149044263, 2868547625, 965087276, 2650337326, 911290422, 2783637564, 233943101, 3996954686, 2001915971, 78475337, 3061854285, 1166938190, 976318543, 3708309584, 1825722446, 2140385366, 1904570455, 390729816, 763957337, 1346236508, 1064325217, 1587343458, 624504932, 2454745198, 1482862704, 2016702576, 2213294195, 1223929973, 564621429, 679260279, 3001593976, 2669711492, 1940582534, 3666096268, 1669197967, 1478660246, 3920449688, 1882820762, 3384103066, 3045970077, 3217846442, 1032859818, 1423200428, 2468868268, 265113780, 3730526393, 2324959426, 1775767747, 298184900, 1355944134, 3443978439, 3105919193, 4160876765, 202059999, 3884642534, 1287868646, 4227035367, 974311664, 4184625392, 3901067509, 1561260283, 257388797, 3873755390, 2476642563, 1311437061, 2054705417, 650719500, 1221767436, 1645031707, 2914210078, 2339721506, 3957690658, 503279912, 3117887785, 209359149, 2223616306, 810586436, 4041052485, 1662939467, 1867206987, 3324440916, 1711190356, 777949526, 3791860073, 2167755113, 3348558188, 2688430451, 3472667003, 1162203522, 782659972, 1435324805, 4028354952, 1439625611, 3689050507, 1094832531, 3016872348, 2000318878, 528052643, 3048173988, 548811179, 3097391531, 231723443, 920408500, 1514033597, 332861888, 165532103, 2000884167, 741970388, 3066065374, 4116222434, 940741095, 4187320815, 2887283185, 405098997, 422179323, 724406780, 3254145541, 1902129678, 272364068, 3497972263, 1653969459, 3336106552, 3059683896, 1998770751, 1525101124, 839914052, 1944261188, 3404206671, 1162162773, 1865249368, 826356313, 785150554, 3679040092, 400069213, 2971275876, 1916654180, 3686322793, 3071251050, 1466159727, 299676273, 2943373941, 691286649, 741757561, 480539258, 3800666748, 4034957951, 3383472769, 1041240707, 3697152649, 471601807, 923013780, 2014900892, 624824996, 4116804271, 1220596402, 415756979, 1559433909, 3533673143, 538333883, 3636466366, 2790331071, 3997766338, 343757507, 3673895625, 2801832654, 515592910, 2821247705, 1985614554, 1517736672, 3640201959, 3814888167, 1730712309, 2780877558, 2398851845, 4046304014, 909185817, 4141060890, 3857290010, 3349418782, 648540963, 54825770, 2675921714, 2982286134, 2966516536, 1273197374, 3414119230, 2577306430, 1958302548, 649515866, 1557910362, 2899145565, 1407718242, 2868589434, 1551913852, 4099191681, 909554580, 2849395608, 2985808793, 2379142040, 3321541532, 2287440800, 3501241256, 3995636655, 206590901, 1240052677, 3689681868, 4244779987, 3143193558, 4275770332, 1695405039, 2779665391, 2606420979, 2674635771, 3903902717, 293655549, 4165448708, 2597491718, 2277323802, 3351311387, 3880006688, 321041453, 3413349425, 3359626296, 2777257016, 2912212029, 547902525, 1859130435, 3747861575, 229602377, 1854002255, 1935201367, 2615432296, 3404362864, 2490496117, 2919068802, 933303432, 2999981196, 1600132237, 473191567, 3665130639, 1210324117, 2368115862, 486274199, 380507294, 2145703073, 2439877795, 3325580452, 2943612068, 1370682539, 3111605423, 736957616, 4187157681, 3756709044, 1351111862, 173569207, 1870009530, 2283754688, 2873857217, 3439809731, 27825350, 1735005385, 205714638, 1104737488, 2452772057, 4146238681, 1348334812, 2683180253, 440538332, 770151652, 4043576552, 2077996265, 166868212, 1510790393, 3822417145, 1958950146, 1484272900, 299005197, 3309344019, 613291283, 2436363573, 2955375925, 2510206276, 3380802888, 2276169033, 2921510219, 2792543566, 1690457429, 2094970203, 1735333216, 1723053412, 3140236663, 3282515324, 3913373056, 3581998476, 3163092369, 515675539, 3836908951, 1794192804, 1157682604, 3486725551, 119633333, 1529656768, 3848197576, 2991551950, 4035540437, 3524670938, 2213983714, 1163539942, 3653481960, 1333753324, 2258941428, 1075426806, 248247801, 1885599230, 3755374079, 3839366662, 925644302, 2179962384, 3043776017, 93255188, 1238365722, 3439932961, 2825524777, 804099627, 2228344365, 995096112, 2355058226, 2123224627, 3852654139, 516773436, 1973753404, 1015199295, 2072974915, 892409413, 3462936145, 2609264211, 3008484953, 48739940, 1821668979, 437458548, 4226119294, 1217648255, 2250782336, 2317956745, 1125619342, 2227639969, 3231143586, 1592964774, 1168062131, 1005852345, 3373946559, 2601105089, 1170388677, 2190030535, 4120950479, 2910017233, 1678448344, 3550500569, 3024500440, 361952993, 2720036580, 3695965927, 3368695531, 3794507505, 1498986227, 1873966839, 464074490, 3951466237, 3836352257, 1626461960, 2662889225, 3710957326, 546600719, 1287591697, 2421774098, 3279615767, 509114143, 3710293799, 790886184, 1098618667, 1189295922, 4040554307, 3110950734, 1067472723, 4014765907, 1497266007, 597800805, 202127212, 3741914995, 577132405, 2694436736, 1768781712, 2015844246, 1822037911, 2591111069, 4266194847, 3827488672, 3495434148, 911800230, 7698344, 2729916328, 1815459757, 2242983861, 1774679998, 3366197183, 4022802368, 1436293058, 149018566, 955004875, 1711503308, 2294298580, 3702077403, 4109965277, 2059982815, 1949825007, 3080206320, 2226542582, 1898477574, 1459771404, 2899179535, 2609051664, 233936912, 3852458002, 4036384788, 4014299170, 1052162089, 646109225, 90667052, 3225311282, 881571901, 404600906, 2985572426, 1398069328, 3538516048, 1039218773, 3525531738, 1686141021, 3064272993, 1781725282, 670750819, 4223613034, 619354220, 1200494701, 1999026289, 4274559090, 1729026165, 1921620086, 3238451326, 3269023871, 2786556035, 3735672971, 3418740875, 2254510231, 350746780, 1183324318, 1056528561, 1903638717, 1272748222, 4142233789, 3575552189, 2331195596, 1771272398, 88996049, 2692020435, 1509505240, 3702986971, 1852766428, 3594664158, 1512118497, 4037089508, 3163584747, 1488091376, 3361560816, 22321395, 2264652027, 2870221052, 44865792, 1056684294, 3507763463, 501119240, 3236239625, 503413013, 1729018146, 3607804200, 3485940011, 3399645485, 2925639983, 2031081778, 1802352948, 817297724, 299137346, 3737024836, 1547852106, 3439663436, 2361424206, 2533038415, 1983723858, 1111849313, 1146313062, 65001835, 3036789104, 3949934964, 2384107927, 744028568, 2490997145, 3011795358, 1168751011, 3877714343, 1663981994, 3889437099, 927136183, 3360012733, 2646202822, 230496712, 3046062544, 1562114514, 1997846997, 816789979, 1526512101, 1779522033, 2514532860, 1904097789, 875444733, 2111085062, 2170206736, 3070081558, 3772324374, 3898915354, 3267410460, 2718276129, 613513762, 1119812131, 844397093, 1561852454, 275937833, 3528071738, 637090364, 3544734270, 3403020871, 3197770317, 399776334, 1318001233, 2274007635, 3325311573, 1804687965, 737458783, 1961237114, 4029495951, 122952338, 3329522323, 1710021279, 49691296, 1011972773, 3193698989, 2496666287, 4227676853, 1653332663, 3906550475, 3454417614, 3244677849, 3018537695, 1947187940, 1911618279, 1699519213, 2539821808, 3026041586, 2991733492, 3123067637, 2885835509, 1537260288, 2498026242, 1074420489, 1262992138, 3653892898, 538008355, 1606228782, 1444789063, 1625348936, 2754100043, 841644879, 1138727762, 1026382675, 2218130260, 888404822, 3238533975, 2042690393, 1611930481, 3721829235, 2269780854, 3606322041, 3844610939, 2993527678, 3508157317, 870062983, 100858765, 1170938774, 1582037913, 1741978521, 1811143584, 1287003042, 2818784167, 3546323885, 2740149165, 554761135, 3800202158, 3093404596, 1779489717, 2642598838, 1271929786, 2026453946, 1347886015, 29285311, 2183969741, 3179740111, 1824725969, 3351428050, 4263230419, 2144893909, 3107412951, 1438055390, 1027824611, 2506030053, 2586672103, 2802834408, 1416346601, 491838452, 516275190, 1765727234, 1052580867, 3502390284, 3468557332, 1471486999, 2929310747, 3055647779, 3741572136, 3355450408, 1016945710, 3628973108, 3677666366, 582409278, 623705160, 1011702856, 2581838925, 1983519827, 1551932500, 2869050452, 221543510, 697007191, 2590219351, 1398783067, 3616267356, 2797780062, 905649252, 4200234087, 520936558, 2642148473, 730111101, 3429981320, 499891342, 1679383695, 1503935633, 4179549332, 2062630045, 4043349152, 1120607393, 2604235937, 2681920675, 113204390, 3108330675, 3894312125, 1305287887, 676535510, 2778946777, 170630363, 1532460253, 1975098590, 1663286493, 1860050144, 1305959651, 3705601256, 3856915692, 2476375276, 550493431, 2104900863, 4207860992, 3623902464, 551935236, 2983771405, 164642062, 2124807439, 2443558165, 2511125784, 3966188824, 873643292, 1599454492, 3925007648, 2313960739, 1523809574, 2218491187, 620313911, 3462733112, 706641211, 218815804, 2711903549, 291142975, 3699547458, 4189281604, 2968804691, 3993943392, 1076944226, 3537263972, 702684518, 3366215017, 1335721323, 4079983979, 1595440502, 4211432824, 263732602, 328981884, 1394761088, 147692935, 487079305, 2019515787, 1062976909, 811752852, 2659360151, 1595817371, 2372803998, 3085213093, 1247591845, 3185499561, 1306852778, 3849657771, 2081193393, 3962437042, 2758565299, 3506486708, 1273789881, 2752863677, 959970753, 414784964, 312729041, 2401320401, 479321558, 168107481, 444415455, 1089240552, 679566827, 486948335, 301317617, 2086944250, 2613083648, 3534626308, 3537534500, 1060437542, 1064386086, 1946590762, 964001329, 3369139769, 1185234491, 2642263614, 2182946373, 2803433031, 4138376776, 3775577671, 1552498254, 2866732625, 2835791450, 2186436190, 828431967, 3402890850, 2060484200, 2320735851, 2282356333, 364535415, 323698298, 251395709, 1992343167, 1766448777, 992476814, 930823825, 3298623131, 4124524187, 1122778787, 1997323940, 2845728422, 3674447527, 2956934836, 1598480059, 3852541638, 3896139463, 462773961, 916430540, 108535523, 3468205796, 145702627, 2796338919, 684801774, 3066552049, 782704376, 3117407992, 1924644601, 2874228474, 4069637884, 2968026874, 2844753662, 1492115203, 3854155528, 2235752211, 2412461844, 4177821481, 898547503, 1295761200, 1664540470, 2025807677, 4217257791, 2695814978, 1008484165, 1067671365, 3565739858, 1501200211, 2804555608, 233914201, 1195564901, 2726764390, 3431841642, 2797617006, 3693928304, 1817362291, 2374942583, 46677881, 3965468544, 1552916356, 2727862149, 3796868998, 3537969033, 2597724044, 4245921683, 2311659411, 1510989716, 1982816154, 1926569883, 1426612124, 1042055080, 4206337961, 344309676, 2984263596, 3120807855, 4004593584, 1218830255, 3247300531, 1376960440, 1558953913, 2358845375, 1010737089, 2477621187, 544833477, 1904058310, 2099806150, 1336328137, 2127544270, 1468948454, 174940135, 552525802, 3459981294, 1687257073, 3674710002, 6578165, 1697685495, 1560748031}\n"
     ]
    }
   ],
   "source": [
    "show_shingles = True\n",
    "if show_shingles:\n",
    "    print(\"\\033[1mTotal shingles:\\033[0m \", len(docsAsShingleSets[sample_ID]))\n",
    "    \n",
    "    print(\"\\n\\033[1mHashed shingles:\\033[0m\")\n",
    "    print(docsAsShingleSets[sample_ID])"
   ]
  },
  {
   "cell_type": "markdown",
   "id": "31ceabfb",
   "metadata": {},
   "source": [
    "##      Define Triangle Matrices\n",
    "Triangle matrices to hold the similarity values. For storing similarities between pairs, we only need roughly half the elements of a full matrix. Using a triangle matrix requires less than half the memory of a full matrix. "
   ]
  },
  {
   "cell_type": "code",
   "execution_count": 17,
   "id": "b28b6716",
   "metadata": {},
   "outputs": [],
   "source": [
    "# Calculate the number of elements needed in our triangle matrix\n",
    "numDocs = len(docsAsShingleSets)\n",
    "numElems = int(numDocs * (numDocs - 1) / 2)\n",
    "\n",
    "# Initialize two empty lists to store the similarity values. \n",
    "# 'JSim' will be for the actual Jaccard Similarity values. \n",
    "# 'estJSim' will be for the estimated Jaccard Similarities found by comparing\n",
    "# the MinHash signatures.\n",
    "JSim = [0 for x in range(numElems)]\n",
    "estJSim = [0 for x in range(numElems)]\n",
    "\n",
    "# Define a function to map a 2D matrix coordinate into a 1D index.\n",
    "def getTriangleIndex(i, j):\n",
    "  # If i == j that's an error.\n",
    "  if i == j:\n",
    "    sys.stderr.write(\"Can't access triangle matrix with i == j\")\n",
    "    sys.exit(1)\n",
    "  # If j < i just swap the values.\n",
    "  if j < i:\n",
    "    temp = i\n",
    "    i = j\n",
    "    j = temp\n",
    "  \n",
    "  # Calculate the index within the triangular array.\n",
    "  # This  indexing scheme is taken from pg. 211 of:\n",
    "  # http://infolab.stanford.edu/~ullman/mmds/ch6.pdf\n",
    "    k = int(i * (numDocs - (i + 1) / 2.0) + j - i) - 1\n",
    "  \n",
    "  return k"
   ]
  },
  {
   "cell_type": "markdown",
   "id": "ea43064e",
   "metadata": {},
   "source": [
    "##                 Calculate Jaccard Similarities\n",
    "Calculate all the Jaccard similarities by comparing couple of elements in the sets. This should be slower than the MinHash approach."
   ]
  },
  {
   "cell_type": "code",
   "execution_count": 18,
   "id": "08a17928",
   "metadata": {},
   "outputs": [
    {
     "name": "stdout",
     "output_type": "stream",
     "text": [
      "\n",
      "Calculating Jaccard Similarities...\n",
      "  (0 / 933)\n",
      "  (100 / 933)\n",
      "  (200 / 933)\n",
      "  (300 / 933)\n",
      "  (400 / 933)\n",
      "  (500 / 933)\n",
      "  (600 / 933)\n",
      "  (700 / 933)\n",
      "  (800 / 933)\n",
      "  (900 / 933)\n",
      "\n",
      "Calculating all Jaccard Similarities took 32.71sec\n"
     ]
    }
   ],
   "source": [
    "new_sim = True\n",
    "if new_sim: \n",
    "    if numDocs <= 2500:\n",
    "        print(\"\\nCalculating Jaccard Similarities...\")\n",
    "\n",
    "        # Time the calculation.\n",
    "        t0 = time.time()\n",
    "\n",
    "        # For every document pair...\n",
    "        for i in range(0, numDocs):\n",
    "            # Print progress every 100 documents.\n",
    "            if (i % 100) == 0:\n",
    "                print(\"  (\" + str(i) + \" / \" + str(numDocs) + \")\")\n",
    "\n",
    "            # Retrieve the set of shingles for document i.\n",
    "            s1 = docsAsShingleSets[caseIDs[i]]\n",
    "\n",
    "            for j in range(i + 1, numDocs):\n",
    "                # Retrieve the set of shingles for document j.\n",
    "                s2 = docsAsShingleSets[caseIDs[j]]\n",
    "                # Calculate and store the actual Jaccard similarity.\n",
    "                JSim[getTriangleIndex(i, j)] = (len(s1.intersection(s2)) / len(s1.union(s2)))    \n",
    "\n",
    "        # Calculate the elapsed time (in seconds)\n",
    "        elapsed = (time.time() - t0)\n",
    "\n",
    "        print(\"\\nCalculating all Jaccard Similarities took %.2fsec\" % elapsed)\n",
    "\n",
    "# Delete the Jaccard Similarities, since it's a pretty big matrix.   \n",
    "#del JSim"
   ]
  },
  {
   "cell_type": "code",
   "execution_count": 20,
   "id": "abcd30b9",
   "metadata": {},
   "outputs": [
    {
     "name": "stdout",
     "output_type": "stream",
     "text": [
      "Len of Jsim:  434778\n",
      "Number of couples:  434778.0\n"
     ]
    }
   ],
   "source": [
    "print(\"Len of Jsim: \", len(JSim))\n",
    "print(\"Number of couples: \", num_cases* (num_cases-1)/2)"
   ]
  },
  {
   "cell_type": "markdown",
   "id": "da457a22",
   "metadata": {},
   "source": [
    "## Save or load file"
   ]
  },
  {
   "cell_type": "code",
   "execution_count": 19,
   "id": "374b4227",
   "metadata": {},
   "outputs": [],
   "source": [
    "#print(type(JSim))\n",
    "#print(type(JSim[0])\n",
    "\n",
    "#if all_cases:\n",
    "    #print('New matrix')\n",
    "    #np.save('jaccard_similarity_with_stop_words.npy', JSim)\n",
    "    #np.save('jaccard_similarity_without_stop_words.npy', JSim)"
   ]
  },
  {
   "cell_type": "code",
   "execution_count": 20,
   "id": "d393a9a2",
   "metadata": {},
   "outputs": [],
   "source": [
    "#if all_cases:\n",
    " #   JSim = np.load('jaccard_similarity_with_stop_words.npy').tolist()\n",
    "    #JSim = np.load('jaccard_similarity_without_stop_words.npy').tolist()\n",
    "  #  print(type(JSim))\n",
    "   # print(type(JSim[0]))"
   ]
  },
  {
   "cell_type": "markdown",
   "id": "5c9e7fc0",
   "metadata": {},
   "source": [
    "##  Generate MinHash Signatures"
   ]
  },
  {
   "cell_type": "code",
   "execution_count": 21,
   "id": "5c6585d5",
   "metadata": {},
   "outputs": [
    {
     "name": "stdout",
     "output_type": "stream",
     "text": [
      "\n",
      "Generating random hash functions...\n",
      "\n",
      "Generating MinHash signatures for all documents...\n"
     ]
    },
    {
     "data": {
      "application/vnd.jupyter.widget-view+json": {
       "model_id": "01a131cd31184dfca0ba267e40ecb0d0",
       "version_major": 2,
       "version_minor": 0
      },
      "text/plain": [
       "FloatProgress(value=0.0, max=18338.0)"
      ]
     },
     "metadata": {},
     "output_type": "display_data"
    },
    {
     "name": "stdout",
     "output_type": "stream",
     "text": [
      "\n",
      "Generating MinHash signatures took 36.01sec\n"
     ]
    }
   ],
   "source": [
    "# Time this step.\n",
    "t0 = time.time()\n",
    "\n",
    "print('\\nGenerating random hash functions...')\n",
    "numHashes = 100\n",
    "\n",
    "# Record the maximum shingle ID that we assigned.\n",
    "maxShingleID = 2**32-1\n",
    "\n",
    "# We need the next largest prime number above 'maxShingleID'.\n",
    "nextPrime = 4294967311\n",
    "\n",
    "\n",
    "# Our random hash function will take the form of:\n",
    "#   h(x) = (a*x + b) % c\n",
    "# Where 'x' is the input value, 'a' and 'b' are random coefficients, and 'c' is\n",
    "# a prime number just greater than maxShingleID.\n",
    "\n",
    "# Generate a list of 'k' random coefficients for the random hash functions,\n",
    "# while ensuring that the same value does not appear multiple times in the list.\n",
    "\n",
    "def pickRandomCoeffs(k):\n",
    "    # Create a list of 'k' random values.\n",
    "    randList = []\n",
    "    \n",
    "    while k > 0:\n",
    "        # Get a random shingle ID.\n",
    "        randIndex = random.randint(0, maxShingleID) \n",
    "        \n",
    "        # Ensure that each random number is unique.\n",
    "        while randIndex in randList:\n",
    "            randIndex = random.randint(0, maxShingleID) \n",
    "            \n",
    "        # Add the random number to the list.\n",
    "        randList.append(randIndex)\n",
    "        k = k - 1\n",
    "        \n",
    "    return randList\n",
    "\n",
    "# For each of the 'numHashes' hash functions, generate a different coefficient 'a' and 'b'.   \n",
    "coeffA = pickRandomCoeffs(numHashes)\n",
    "coeffB = pickRandomCoeffs(numHashes)\n",
    "\n",
    "\n",
    "print('\\nGenerating MinHash signatures for all documents...')\n",
    "\n",
    "# List of documents represented as signature vectors\n",
    "signatures = []\n",
    "\n",
    "#Add progress bar\n",
    "bar = FloatProgress(min=0, max=len(cases))\n",
    "display(bar)\n",
    "\n",
    "# For each document...\n",
    "for docID in caseIDs:\n",
    "    \n",
    "    # Get the shingle set for this document.\n",
    "    shingleIDSet = docsAsShingleSets[docID]\n",
    "    \n",
    "    # The resulting minhash signature for this document. \n",
    "    signature = []\n",
    "    \n",
    "    # For each of the random hash functions...\n",
    "    for i in range(0, numHashes):\n",
    "        \n",
    "        # For each of the shingles actually in the document, calculate its hash code\n",
    "        # using hash function 'i'. \n",
    "\n",
    "        # Track the lowest hash ID seen. Initialize 'minHashCode' to be greater than\n",
    "        # the maximum possible value output by the hash.\n",
    "        minHashCode = nextPrime + 1\n",
    "\n",
    "        # For each shingle in the document...\n",
    "        for shingleID in shingleIDSet:\n",
    "            # Evaluate the hash function.\n",
    "            hashCode = (coeffA[i] * shingleID + coeffB[i]) % nextPrime \n",
    "\n",
    "            # Track the lowest hash code seen.\n",
    "            if hashCode < minHashCode:\n",
    "                minHashCode = hashCode\n",
    "\n",
    "        # Add the smallest hash code value as component number 'i' of the signature.\n",
    "        signature.append(minHashCode)\n",
    "    # Store the MinHash signature for this document.\n",
    "    signatures.append(signature)\n",
    "    bar.value += 1\n",
    "\n",
    "# Calculate the elapsed time (in seconds)\n",
    "elapsed = (time.time() - t0)\n",
    "        \n",
    "print(\"\\nGenerating MinHash signatures took %.2fsec\" % elapsed)"
   ]
  },
  {
   "cell_type": "code",
   "execution_count": 23,
   "id": "4b38f26a",
   "metadata": {},
   "outputs": [
    {
     "name": "stdout",
     "output_type": "stream",
     "text": [
      "\u001b[1mSignature of the first document:\u001b[0m\n",
      "[2617408, 4260810, 2459392, 495647, 5568754, 200308, 544528, 4339205, 11358356, 643611, 2925007, 100972, 6962333, 3458930, 37612, 2436217, 7208287, 1765877, 2281741, 5369086, 1193066, 818937, 4023631, 12066037, 2468644, 3920584, 4116980, 6439891, 7417755, 12739340, 4709003, 1360073, 3605180, 6839279, 740028, 752282, 2228647, 3736551, 99154, 11540380, 8480782, 11879773, 2150056, 352319, 2790131, 254473, 1241679, 10493843, 9211259, 12345937, 6787982, 293884, 3785316, 4640950, 1213429, 1921299, 2452925, 974634, 5595953, 6354648, 1635741, 6259269, 2630244, 3436326, 742062, 5190760, 8960857, 68207, 1098884, 2448951, 965150, 5248234, 722807, 3996783, 4054538, 3704940, 4847395, 1367289, 2546571, 857789, 368643, 194799, 7785102, 2465208, 599882, 4284802, 1676459, 166389, 450255, 2664411, 1336921, 12781878, 763148, 4797089, 1644386, 2827726, 1509272, 1506553, 3004222, 5143348]\n",
      "\n",
      "Signature has lenght  100\n"
     ]
    }
   ],
   "source": [
    "print(\"\\033[1mSignature of the first document:\\033[0m\")\n",
    "print(signatures[0])\n",
    "print(\"\\nSignature has lenght \", len(signatures[0]))"
   ]
  },
  {
   "cell_type": "markdown",
   "id": "48ab9642",
   "metadata": {},
   "source": [
    "## Compare All Signatures"
   ]
  },
  {
   "cell_type": "code",
   "execution_count": 24,
   "id": "2ef10d29",
   "metadata": {},
   "outputs": [
    {
     "name": "stdout",
     "output_type": "stream",
     "text": [
      "\n",
      "Comparing all signatures...\n"
     ]
    },
    {
     "data": {
      "application/vnd.jupyter.widget-view+json": {
       "model_id": "08b2667e82eb47139bfb53b6488741b0",
       "version_major": 2,
       "version_minor": 0
      },
      "text/plain": [
       "FloatProgress(value=0.0, max=18338.0)"
      ]
     },
     "metadata": {},
     "output_type": "display_data"
    },
    {
     "name": "stdout",
     "output_type": "stream",
     "text": [
      "\n",
      "Comparing MinHash signatures took 4.75sec\n"
     ]
    }
   ],
   "source": [
    "print('\\nComparing all signatures...')\n",
    "\n",
    "#Add progress bar\n",
    "bar = FloatProgress(min=0, max=len(cases))\n",
    "display(bar)\n",
    "\n",
    "# Time this step.\n",
    "t0 = time.time()\n",
    "\n",
    "# For each of the test documents...\n",
    "for i in range(0, numDocs):\n",
    "    # Get the MinHash signature for document i.\n",
    "    signature1 = signatures[i]\n",
    "    \n",
    "    # For each of the other test documents...\n",
    "    for j in range(i + 1, numDocs):        \n",
    "        # Get the MinHash signature for document j.\n",
    "        signature2 = signatures[j]    \n",
    "        count = 0\n",
    "        # Count the number of positions in the minhash signature which are equal.\n",
    "        for k in range(0, numHashes):\n",
    "            count = count + (signature1[k] == signature2[k])\n",
    "            \n",
    "        # Record the percentage of positions which matched.    \n",
    "        estJSim[getTriangleIndex(i, j)] = (count / numHashes)\n",
    "    \n",
    "    bar.value += 1\n",
    "\n",
    "# Calculate the elapsed time (in seconds)\n",
    "elapsed = (time.time() - t0)\n",
    "        \n",
    "print(\"\\nComparing MinHash signatures took %.2fsec\" % elapsed)\n",
    "\n",
    "#print(estJSim)"
   ]
  },
  {
   "cell_type": "code",
   "execution_count": 30,
   "id": "a32be215",
   "metadata": {},
   "outputs": [
    {
     "name": "stdout",
     "output_type": "stream",
     "text": [
      "There are 434778 similarity values\n",
      "\n",
      "Max value in JSim:  0.11919831223628692\n",
      "Max value in estJSim: 0.13\n"
     ]
    }
   ],
   "source": [
    "print(f'There are {len(JSim)} similarity values\\n')\n",
    "print(\"Max value in JSim: \", max(JSim))\n",
    "print(\"Max value in estJSim:\", max(estJSim))\n",
    "#index_max = max(range(len(JSim)), key=JSim.__getitem__)\n",
    "#print(index_max)"
   ]
  },
  {
   "cell_type": "code",
   "execution_count": 26,
   "id": "35131372",
   "metadata": {},
   "outputs": [
    {
     "name": "stdout",
     "output_type": "stream",
     "text": [
      "Mean value in JSim:  0.0010620983247452299\n",
      "Mean value in estJSim:  0.0011883075960605182\n"
     ]
    }
   ],
   "source": [
    "from statistics import mean\n",
    "\n",
    "print(\"Mean value in JSim: \", mean(JSim))\n",
    "print(\"Mean value in estJSim: \", mean(estJSim))"
   ]
  },
  {
   "cell_type": "code",
   "execution_count": 28,
   "id": "0878d5a5",
   "metadata": {},
   "outputs": [
    {
     "name": "stdout",
     "output_type": "stream",
     "text": [
      "Mode of data in JSim:  0.0\n",
      "Mode of data in estJSim:  0.0\n"
     ]
    }
   ],
   "source": [
    "from statistics import mode \n",
    "\n",
    "print(\"Mode of data in JSim: \", mode(JSim))\n",
    "print(\"Mode of data in estJSim: \", mode(estJSim))"
   ]
  },
  {
   "cell_type": "markdown",
   "id": "ef2ba15c",
   "metadata": {},
   "source": [
    "## Display Similar Document Pairs"
   ]
  },
  {
   "cell_type": "code",
   "execution_count": 36,
   "id": "f2234e07",
   "metadata": {},
   "outputs": [
    {
     "name": "stdout",
     "output_type": "stream",
     "text": [
      "\n",
      "There are 933 documents.\n",
      "\n",
      "There are 434778 similarity values.\n"
     ]
    },
    {
     "data": {
      "image/png": "[encoded data removed]",
      "text/plain": [
       "<Figure size 1440x360 with 1 Axes>"
      ]
     },
     "metadata": {
      "needs_background": "light"
     },
     "output_type": "display_data"
    }
   ],
   "source": [
    "# creating the bar plot\n",
    "print(f'\\nThere are {numDocs} documents.')\n",
    "print(f'\\nThere are {len(JSim)} similarity values.')\n",
    "fig = plt.figure(figsize = (20, 5))\n",
    "plt.hist(JSim, bins=50, log=True)\n",
    "plt.xlabel('Jaccard Similarity')\n",
    "#plt.ylabel('')\n",
    "plt.title('Jaccard similarities distribution')\n",
    "plt.show()"
   ]
  },
  {
   "cell_type": "code",
   "execution_count": 35,
   "id": "07edf680",
   "metadata": {},
   "outputs": [
    {
     "name": "stdout",
     "output_type": "stream",
     "text": [
      "\n",
      "There are 933 documents.\n",
      "\n",
      "There are 434778 similarity values.\n"
     ]
    },
    {
     "data": {
      "image/png": "[encoded data removed]",
      "text/plain": [
       "<Figure size 1440x360 with 1 Axes>"
      ]
     },
     "metadata": {
      "needs_background": "light"
     },
     "output_type": "display_data"
    }
   ],
   "source": [
    "# creating the bar plot\n",
    "print(f'\\nThere are {numDocs} documents.')\n",
    "print(f'\\nThere are {len(JSim)} similarity values.')\n",
    "fig = plt.figure(figsize = (20, 5))\n",
    "plt.hist(estJSim, bins=50, log=True)\n",
    "plt.xlabel('Jaccard Similarity')\n",
    "#plt.ylabel('')\n",
    "plt.title('estimated Jaccard similarities distribution')\n",
    "plt.show()"
   ]
  },
  {
   "cell_type": "code",
   "execution_count": 43,
   "id": "9f208665",
   "metadata": {
    "scrolled": false
   },
   "outputs": [
    {
     "name": "stdout",
     "output_type": "stream",
     "text": [
      "\n",
      "List of Document Pairs with J(d1,d2) more than 0.05\n",
      "Values shown are the estimated Jaccard similarity and the actual\n",
      "Jaccard similarity.\n",
      "\n",
      "                               Est. J      Act. J\n",
      "     1557084 -->    1571038   0.07000     0.07055\n",
      "     1573053 -->    2764068   0.07000     0.07308\n",
      "     1582497 -->    1557100   0.06000     0.02629\n",
      "     1555153 -->    5359847   0.08000     0.04154\n",
      "     1573180 -->    1577399   0.11000     0.05239\n",
      "     1568686 -->    2865410   0.11000     0.07063\n",
      "     1557105 -->    2842009   0.06000     0.02193\n",
      "     1580162 -->    2863437   0.13000     0.11920\n",
      "     2736729 -->    2737299   0.08000     0.03700\n",
      "     2742805 -->    2741461   0.06000     0.04464\n",
      "     2742805 -->    2743787   0.08000     0.09278\n",
      "     5327090 -->    2832226   0.07000     0.02682\n",
      "     2775307 -->    2774698   0.06000     0.09208\n",
      "     5332260 -->    2743460   0.13000     0.08728\n",
      "     2737468 -->    5362894   0.06000     0.01557\n",
      "     2741461 -->    5365101   0.06000     0.05862\n",
      "     5367295 -->    2743787   0.06000     0.04000\n",
      "     5365620 -->    2746957   0.08000     0.04417\n",
      "     2772846 -->    2765559   0.08000     0.03430\n",
      "     2831716 -->    2835689   0.08000     0.03647\n",
      "     2747481 -->    5320952   0.06000     0.02731\n",
      "     2743787 -->    5360087   0.07000     0.04825\n",
      "     5357214 -->    5331997   0.07000     0.01481\n",
      "     2835689 -->    2836549   0.07000     0.04685\n",
      "     2764068 -->    2772527   0.10000     0.04817\n"
     ]
    }
   ],
   "source": [
    "threshold = 0.05\n",
    "print(\"\\nList of Document Pairs with J(d1,d2) more than\", threshold)\n",
    "print(\"Values shown are the estimated Jaccard similarity and the actual\")\n",
    "print(\"Jaccard similarity.\\n\")\n",
    "print(\"                               Est. J      Act. J\")\n",
    "\n",
    "# Time this step.\n",
    "t0 = time.time() \n",
    "\n",
    "index_i = []\n",
    "index_j = []\n",
    "\n",
    "# For each of the document pairs...\n",
    "for i in range(0, numDocs):  \n",
    "    for j in range(i + 1, numDocs):\n",
    "        # Retrieve the estimated similarity value for this pair.\n",
    "        J = JSim[getTriangleIndex(i, j)]\n",
    "        estJ = estJSim[getTriangleIndex(i, j)]\n",
    "        \n",
    "        # If the similarity is above the threshold...\n",
    "        if estJ > threshold:            \n",
    "            # Calculate the actual Jaccard similarity for validation.\n",
    "            s1 = docsAsShingleSets[caseIDs[i]]\n",
    "            s2 = docsAsShingleSets[caseIDs[j]]\n",
    "            J = (len(s1.intersection(s2)) / len(s1.union(s2)))\n",
    "            index_i.append(i)\n",
    "            index_j.append(j)\n",
    "            \n",
    "            # Print out the match and similarity values with pretty spacing.\n",
    "            print(\"  %10s --> %10s   %.5f     %.5f\" % (caseIDs[i], caseIDs[j], estJ, J))\n",
    "            \n",
    "# Calculate the elapsed time (in seconds)\n",
    "elapsed = (time.time() - t0)"
   ]
  },
  {
   "cell_type": "code",
   "execution_count": 44,
   "id": "f86e6485",
   "metadata": {},
   "outputs": [
    {
     "name": "stdout",
     "output_type": "stream",
     "text": [
      "\n",
      "Finding documents with Jaccard similaty above threshold took 0.30sec\n",
      "\n",
      "There are 25 couples of documents with similarity above 0.05\n"
     ]
    }
   ],
   "source": [
    "print(\"\\nFinding documents with Jaccard similaty above threshold took %.2fsec\" % elapsed)\n",
    "print(f'\\nThere are {len(index_i)} couples of documents with similarity above {threshold}')"
   ]
  }
 ],
 "metadata": {
  "colab": {
   "provenance": []
  },
  "kernelspec": {
   "display_name": "Python 3 (ipykernel)",
   "language": "python",
   "name": "python3"
  },
  "language_info": {
   "codemirror_mode": {
    "name": "ipython",
    "version": 3
   },
   "file_extension": ".py",
   "mimetype": "text/x-python",
   "name": "python",
   "nbconvert_exporter": "python",
   "pygments_lexer": "ipython3",
   "version": "3.9.6"
  }
 },
 "nbformat": 4,
 "nbformat_minor": 5
}
