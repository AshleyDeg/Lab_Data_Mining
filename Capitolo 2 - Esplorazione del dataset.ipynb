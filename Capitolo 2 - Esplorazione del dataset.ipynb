{
 "cells": [
  {
   "cell_type": "code",
   "execution_count": 1,
   "id": "0805ec4a",
   "metadata": {
    "id": "0805ec4a"
   },
   "outputs": [],
   "source": [
    "import os\n",
    "#This module provides a portable way of using operating system dependent functionality.\n",
    "import sys\n",
    "#This module provides access to some variables used or maintained by the interpreter and\n",
    "#to functions that interact strongly with the interpreter\n",
    "sys.path.append('..')\n",
    "\n",
    "import lzma\n",
    "import json\n",
    "\n",
    "import pandas as pd\n",
    "import numpy as np\n",
    "import matplotlib.pyplot as plt\n",
    "import seaborn as se\n",
    "se.set_style('white')\n",
    "se.set_context('poster')\n",
    "\n",
    "import pyquery\n",
    "from ipywidgets import FloatProgress\n",
    "from IPython.display import display\n",
    "\n",
    "from config import settings\n",
    "import utils\n",
    "import requests\n",
    "import re\n",
    "import matplotlib.pyplot as plt\n",
    "import seaborn as sns\n",
    "\n",
    "%matplotlib inline"
   ]
  },
  {
   "cell_type": "code",
   "execution_count": 2,
   "id": "0e6b51c2",
   "metadata": {
    "id": "0e6b51c2",
    "outputId": "f47c9027-9d4d-43bf-cb73-f3563aad858b"
   },
   "outputs": [
    {
     "name": "stdout",
     "output_type": "stream",
     "text": [
      "\u001b[35mdownloading New Mexico-20200302-text.zip into ../data dir\u001b[0m\n"
     ]
    },
    {
     "name": "stderr",
     "output_type": "stream",
     "text": [
      "66568it [00:31, 2130.33it/s]\n"
     ]
    },
    {
     "name": "stdout",
     "output_type": "stream",
     "text": [
      "\u001b[35mextracting New Mexico-20200302-text.zip into ../data dir\u001b[0m\n",
      "\u001b[35mDone.\u001b[0m\n"
     ]
    }
   ],
   "source": [
    "cases_format=\"json\"\n",
    "#else \"xml\"\n",
    "#cases_format=\"xml\"\n",
    "compressed_file = utils.get_cases_from_bulk(jurisdiction=\"New Mexico\", data_format=cases_format)"
   ]
  },
  {
   "cell_type": "code",
   "execution_count": 3,
   "id": "f6083da4",
   "metadata": {
    "id": "f6083da4",
    "outputId": "e66921d2-43ca-4030-bdb2-1bfbc1bc7413"
   },
   "outputs": [
    {
     "name": "stdout",
     "output_type": "stream",
     "text": [
      "Selected jurisdiction: New Mexico\n",
      "Number of Cases:  18338\n"
     ]
    }
   ],
   "source": [
    "#a list to hold the cases we're sampling\n",
    "cases = []\n",
    "\n",
    "#decompress the file line by line\n",
    "with lzma.open(compressed_file) as infile:\n",
    "    for line in infile:\n",
    "        #decode the file into a convenient format\n",
    "        record = json.loads(str(line, 'utf-8'))\n",
    "        #if the decision date on the case matches one we're interested in, add to our list\n",
    "        cases.append(record)\n",
    "\n",
    "print(\"Selected jurisdiction: New Mexico\")\n",
    "print(\"Number of Cases: \", len(cases))"
   ]
  },
  {
   "cell_type": "code",
   "execution_count": 4,
   "id": "b720c940",
   "metadata": {
    "id": "b720c940"
   },
   "outputs": [],
   "source": [
    "def parse_json(case):\n",
    "    feat_dict = {}\n",
    "    feat_dict[\"case_id\"] = case['id']\n",
    "    #feat_dict[\"case_url\"] = case['url']\n",
    "    feat_dict[\"case_name\"] = case['name']\n",
    "    feat_dict[\"case_name_abbreviation\"] = case['name_abbreviation']\n",
    "    feat_dict[\"date\"] = case['decision_date']\n",
    "    feat_dict[\"year\"] = int(case['decision_date'][:4])\n",
    "    feat_dict[\"citations\"] = [citation for citation in case['citations'] if citation['type'] == 'official'][0]\n",
    "    #feat_dict[\"volume\"] = case['volume']\n",
    "    feat_dict[\"court\"] = case['court']['name']\n",
    "    feat_dict[\"opinion_count\"] = len(case['casebody']['data']['opinions'])\n",
    "    feat_dict[\"jurisdiction\"] = case['jurisdiction']#['name_long']\n",
    "    #feat_dict[\"name\"] = case['jurisdiction']['name']\n",
    "    feat_dict[\"judges\"]=case[\"casebody\"][\"data\"][\"judges\"]\n",
    "    feat_dict[\"attorneys\"]=case[\"casebody\"][\"data\"][\"attorneys\"]\n",
    "    feat_dict[\"author\"]=case[\"casebody\"][\"data\"][\"opinions\"][0][\"author\"]\n",
    "\n",
    "    #Main text: opinions\n",
    "    feat_dict[\"opinion\"]=case[\"casebody\"][\"data\"][\"opinions\"][0][\"text\"]\n",
    "\n",
    "    return feat_dict"
   ]
  },
  {
   "cell_type": "code",
   "execution_count": 5,
   "id": "baf871c5",
   "metadata": {
    "colab": {
     "referenced_widgets": [
      "92cbe005c40f421cb3cc11bfb744f31e"
     ]
    },
    "id": "baf871c5",
    "outputId": "67e44d53-d6f4-4161-a763-931bfc62e69a"
   },
   "outputs": [
    {
     "data": {
      "application/vnd.jupyter.widget-view+json": {
       "model_id": "8f2e07a4a94d4628bafa0be153ec3c6b",
       "version_major": 2,
       "version_minor": 0
      },
      "text/plain": [
       "FloatProgress(value=0.0, max=18338.0)"
      ]
     },
     "metadata": {},
     "output_type": "display_data"
    },
    {
     "name": "stderr",
     "output_type": "stream",
     "text": [
      "IOPub message rate exceeded.\n",
      "The notebook server will temporarily stop sending output\n",
      "to the client in order to avoid crashing it.\n",
      "To change this limit, set the config variable\n",
      "`--NotebookApp.iopub_msg_rate_limit`.\n",
      "\n",
      "Current values:\n",
      "NotebookApp.iopub_msg_rate_limit=1000.0 (msgs/sec)\n",
      "NotebookApp.rate_limit_window=3.0 (secs)\n",
      "\n"
     ]
    }
   ],
   "source": [
    "#Add progress bar\n",
    "bar = FloatProgress(min=0, max=len(cases))\n",
    "display(bar)\n",
    "\n",
    "#For each file, parse with parse_xml() and add to list of parsed files\n",
    "parsed_files = []\n",
    "for case in cases:\n",
    "    doc = parse_json(case) #json\n",
    "    #doc = ET_parse_xml(case) #xml\n",
    "    parsed_files.append(doc)\n",
    "    bar.value += 1"
   ]
  },
  {
   "cell_type": "code",
   "execution_count": 6,
   "id": "5b8ef243",
   "metadata": {},
   "outputs": [],
   "source": [
    "raw_df = pd.DataFrame(parsed_files)\n",
    "raw_df.head()"
   ]
  },
  {
   "cell_type": "markdown",
   "id": "955c8461",
   "metadata": {},
   "source": [
    "## Something about the dataset"
   ]
  },
  {
   "cell_type": "code",
   "execution_count": 7,
   "id": "7ab4948d",
   "metadata": {},
   "outputs": [
    {
     "data": {
      "image/png": "[encoded data removed]",
      "text/plain": [
       "<Figure size 1440x360 with 1 Axes>"
      ]
     },
     "metadata": {
      "needs_background": "light"
     },
     "output_type": "display_data"
    }
   ],
   "source": [
    "#cases per year\n",
    "cases_per_year = raw_df['year'].value_counts().sort_index()\n",
    "years = list(cases_per_year.keys())\n",
    "values = list(cases_per_year)\n",
    " \n",
    "# creating the bar plot\n",
    "fig = plt.figure(figsize = (20, 5))\n",
    "plt.bar(years, values, width = 1)\n",
    "plt.show()"
   ]
  },
  {
   "cell_type": "code",
   "execution_count": 23,
   "id": "183ffbcd",
   "metadata": {},
   "outputs": [
    {
     "name": "stdout",
     "output_type": "stream",
     "text": [
      "Oldest case in:  1852\n",
      "Most recent case in:  2016\n"
     ]
    }
   ],
   "source": [
    "print(\"Oldest case in: \", min(raw_df['year']))\n",
    "print(\"Most recent case in: \", max(raw_df['year']))"
   ]
  },
  {
   "cell_type": "code",
   "execution_count": 25,
   "id": "f0d039c6",
   "metadata": {},
   "outputs": [
    {
     "name": "stdout",
     "output_type": "stream",
     "text": [
      "Number of opinions, number of cases\n"
     ]
    },
    {
     "data": {
      "text/plain": [
       "1    15919\n",
       "2     2156\n",
       "3      228\n",
       "4       32\n",
       "5        1\n",
       "6        1\n",
       "7        1\n",
       "Name: opinion_count, dtype: int64"
      ]
     },
     "execution_count": 25,
     "metadata": {},
     "output_type": "execute_result"
    }
   ],
   "source": [
    "#opinions per case\n",
    "print(\"Number of opinions, number of cases\")\n",
    "raw_df['opinion_count'].value_counts().sort_index()"
   ]
  },
  {
   "cell_type": "markdown",
   "id": "7e2d5ba6",
   "metadata": {},
   "source": [
    "Most cases have a single opinion. "
   ]
  },
  {
   "cell_type": "markdown",
   "id": "d3bac89f",
   "metadata": {
    "id": "d3bac89f"
   },
   "source": [
    "# Something about the authors"
   ]
  },
  {
   "cell_type": "code",
   "execution_count": 10,
   "id": "835f662a",
   "metadata": {
    "id": "835f662a",
    "outputId": "43786d1c-271f-409a-890d-7f1029f44c6e"
   },
   "outputs": [],
   "source": [
    "#raw_df.head()"
   ]
  },
  {
   "cell_type": "code",
   "execution_count": 11,
   "id": "525f2d84",
   "metadata": {
    "id": "525f2d84",
    "outputId": "344531aa-8b0f-42bc-985a-73197ff32ee7"
   },
   "outputs": [
    {
     "name": "stdout",
     "output_type": "stream",
     "text": [
      "Number of authors:  1115\n"
     ]
    },
    {
     "data": {
      "text/plain": [
       "SUTIN, Judge.                                554\n",
       "WOOD, Chief Judge.                           527\n",
       "HENDLEY, Judge.                              373\n",
       "COMPTON, Justice.                            346\n",
       "WOOD, Judge.                                 339\n",
       "                                            ... \n",
       "BI'CKLEY, Chief Justice.                       1\n",
       "£INN, Justice.                                 1\n",
       "BRICE, Justice-                                1\n",
       "HUDSPETH, Chief Justice, BICKLEY, Justice      1\n",
       "RobeRts, J.                                    1\n",
       "Name: author, Length: 1115, dtype: int64"
      ]
     },
     "execution_count": 11,
     "metadata": {},
     "output_type": "execute_result"
    }
   ],
   "source": [
    "#Let's look at how many opinions each author has given\n",
    "#pd.set_option(\"display.max_rows\", None)\n",
    "print(\"Number of authors: \", len(raw_df['author'].value_counts(normalize=False)))\n",
    "raw_df['author'].value_counts(normalize=False)"
   ]
  },
  {
   "cell_type": "code",
   "execution_count": 12,
   "id": "3d0c1b47",
   "metadata": {
    "id": "3d0c1b47",
    "outputId": "308b982b-7466-4ed1-c959-357e5cd18ea6"
   },
   "outputs": [
    {
     "name": "stdout",
     "output_type": "stream",
     "text": [
      "SUTIN, Judge.         554\n",
      "WOOD, Chief Judge.    527\n",
      "HENDLEY, Judge.       373\n",
      "COMPTON, Justice.     346\n",
      "WOOD, Judge.          339\n",
      "Name: author, dtype: int64\n"
     ]
    }
   ],
   "source": [
    "most_prolific_authors = raw_df[\"author\"].value_counts()\n",
    "print(most_prolific_authors.head(5))"
   ]
  },
  {
   "cell_type": "code",
   "execution_count": 13,
   "id": "6e493c1c",
   "metadata": {
    "id": "6e493c1c",
    "outputId": "34d10d34-4010-45d8-c027-1df5bc0ae1cf"
   },
   "outputs": [
    {
     "name": "stdout",
     "output_type": "stream",
     "text": [
      "SUTIN, Judge.\n",
      "WOOD, Chief Judge.\n",
      "HENDLEY, Judge.\n",
      "COMPTON, Justice.\n",
      "WOOD, Judge.\n"
     ]
    }
   ],
   "source": [
    "for justice in most_prolific_authors.index.tolist()[:5]:\n",
    "    print(justice)"
   ]
  },
  {
   "cell_type": "code",
   "execution_count": 14,
   "id": "b76c4f02",
   "metadata": {
    "id": "b76c4f02",
    "outputId": "803654ab-fe48-4d26-f08b-d490c5102819"
   },
   "outputs": [
    {
     "data": {
      "text/plain": [
       "SUTIN, Judge.                                                  554\n",
       "SUTIN, Chief Judge.                                             37\n",
       "SUTIN, J.                                                       12\n",
       "WOOD, Chief Judge. SUTIN, Judge                                  2\n",
       "PER CURIAM. HERNANDEZ, Judge. HENDLEY, Judge. SUTIN, Judge.      1\n",
       "PER CURIAM. SUTIN, Judge                                         1\n",
       "PER CURIAM: SUTIN, Judge.                                        1\n",
       "HERNANDEZ, Judge. SUTIN, J., specially concurring.               1\n",
       "SUTIN, Judge. .                                                  1\n",
       "PER CURIAM. HERNANDEZ, Judge. SUTIN, Judge. HENDLEY, Judge.      1\n",
       "'SUTIN, Judge.                                                   1\n",
       "\"SUTIN, Judge.                                                   1\n",
       "WOOD, Judge. SUTIN, Judge.                                       1\n",
       "STOWERS, Justice. SUTIN, Judge.                                  1\n",
       "SUTIN, Judge                                                     1\n",
       "Name: author, dtype: int64"
      ]
     },
     "execution_count": 14,
     "metadata": {},
     "output_type": "execute_result"
    }
   ],
   "source": [
    "#Filter the dataframe down to entries mentioning Sutin\n",
    "sutin = raw_df[(raw_df[\"author\"].str.contains('SUTIN', na=False))]\n",
    "\n",
    "#Let's see how Sutin is listed as an author\n",
    "sutin[\"author\"].value_counts()[:15]"
   ]
  },
  {
   "cell_type": "code",
   "execution_count": 15,
   "id": "b22a5400",
   "metadata": {
    "id": "b22a5400"
   },
   "outputs": [],
   "source": [
    "#Clean entries up a little bit\n",
    "aliases_justice = [\"SUTIN, Chief Judge.\", \"SUTIN, Judge.\", \"SUTIN, J.\", \"SUTIN, Judge. .\", \"'SUTIN, Judge.\", '\"SUTIN, Judge.',\"SUTIN, Judge\"]\n",
    "\n",
    "sutin = sutin.replace(aliases_justice, \"SUTIN, Judge.\")"
   ]
  },
  {
   "cell_type": "code",
   "execution_count": 16,
   "id": "4153308e",
   "metadata": {
    "id": "4153308e",
    "outputId": "7a79db07-22bf-4303-ef1f-6c50b9ebf075"
   },
   "outputs": [
    {
     "data": {
      "text/plain": [
       "SUTIN, Judge.                                                  607\n",
       "WOOD, Chief Judge. SUTIN, Judge                                  2\n",
       "SUTIN, Judge. PICKARD, Judge                                     1\n",
       "PER CURIAM. HERNANDEZ, Judge. HENDLEY, Judge. SUTIN, Judge.      1\n",
       "PER CURIAM. SUTIN, Judge                                         1\n",
       "PER CURIAM: SUTIN, Judge.                                        1\n",
       "HERNANDEZ, Judge. SUTIN, J., specially concurring.               1\n",
       "PER CURIAM. HERNANDEZ, Judge. SUTIN, Judge. HENDLEY, Judge.      1\n",
       "WOOD, Judge. SUTIN, Judge.                                       1\n",
       "STOWERS, Justice. SUTIN, Judge.                                  1\n",
       "PER CURIAM. SUTIN, Judge.                                        1\n",
       "SUTIN, Judge. WOOD, J., specially concurring.                    1\n",
       "SUTIN, Judge. WALTERS, Judge                                     1\n",
       "JONATHAN B. SUTIN, Judge.                                        1\n",
       "SUTIN, Judge. SUTIN, Judge:                                      1\n",
       "SUTIN, Judge. WALTERS, Judge,                                    1\n",
       "ANDREWS, Judge. SUTIN, Judge                                     1\n",
       "SUTIN, Judge. ■                                                  1\n",
       "Name: author, dtype: int64"
      ]
     },
     "execution_count": 16,
     "metadata": {},
     "output_type": "execute_result"
    }
   ],
   "source": [
    "sutin[\"author\"].value_counts()"
   ]
  },
  {
   "cell_type": "markdown",
   "id": "f85122f8",
   "metadata": {},
   "source": [
    "# Courts"
   ]
  },
  {
   "cell_type": "code",
   "execution_count": 17,
   "id": "50983c56",
   "metadata": {},
   "outputs": [
    {
     "data": {
      "text/plain": [
       "Supreme Court of New Mexico       11442\n",
       "Court of Appeals of New Mexico     6896\n",
       "Name: court, dtype: int64"
      ]
     },
     "execution_count": 17,
     "metadata": {},
     "output_type": "execute_result"
    }
   ],
   "source": [
    "#How many cases fall in each court\n",
    "raw_df['court'].value_counts(normalize=False)"
   ]
  },
  {
   "cell_type": "code",
   "execution_count": 18,
   "id": "8824d089",
   "metadata": {},
   "outputs": [
    {
     "name": "stdout",
     "output_type": "stream",
     "text": [
      "Average word count for a case opinion in New Mexico: 2477\n"
     ]
    }
   ],
   "source": [
    "#Average word count for a case opinion in New Mexico \n",
    "sum_words = 0\n",
    "num_cases = 0\n",
    "for opinion in raw_df['opinion']: \n",
    "    sum_words += len(opinion.split())\n",
    "    num_cases += 1\n",
    "    \n",
    "avg_words = sum_words//num_cases\n",
    "print(f\"Average word count for a case opinion in New Mexico: {avg_words}\")"
   ]
  },
  {
   "cell_type": "code",
   "execution_count": 19,
   "id": "f051373e",
   "metadata": {},
   "outputs": [
    {
     "name": "stdout",
     "output_type": "stream",
     "text": [
      "\u001b[1mCases for court:\u001b[0m\n",
      "Supreme Court of New Mexico       11442\n",
      "Court of Appeals of New Mexico     6896\n",
      "Name: court, dtype: int64\n",
      "\n",
      "\u001b[1mAverage word count for each court:\u001b[0m\n",
      "[('Supreme Court of New Mexico', 2232), ('Court of Appeals of New Mexico', 2882)]\n"
     ]
    }
   ],
   "source": [
    "#Average word count for each court\n",
    "court_len = []\n",
    "\n",
    "#Build a list of tuples indicating average lengths for each court\n",
    "for court in raw_df[\"court\"].unique():\n",
    "    num_cases = raw_df[raw_df[\"court\"] == court].shape[0]\n",
    "    sum_words=0\n",
    "    for opinion in raw_df[raw_df[\"court\"] == court][\"opinion\"]:\n",
    "        sum_words += len(opinion.split())\n",
    "    court_len.append((court, sum_words//num_cases))\n",
    "\n",
    "#Sort by average length\n",
    "court_len = sorted(court_len, key=lambda x: x[1])\n",
    "\n",
    "print(f\"\\033[1mCases for court:\\033[0m\")\n",
    "print(raw_df['court'].value_counts())\n",
    "print()\n",
    "print(f\"\\033[1mAverage word count for each court:\\033[0m\")\n",
    "print(court_len)"
   ]
  },
  {
   "cell_type": "code",
   "execution_count": 20,
   "id": "df4ba109",
   "metadata": {},
   "outputs": [
    {
     "data": {
      "image/png": "[encoded data removed]",
      "text/plain": [
       "<Figure size 720x504 with 1 Axes>"
      ]
     },
     "metadata": {
      "needs_background": "light"
     },
     "output_type": "display_data"
    }
   ],
   "source": [
    "#Display bar plot of lengths\n",
    "court_color_dict = {\n",
    "    'Supreme Court of New Mexico': 'red',\n",
    "    'Court of Appeals of New Mexico': 'blue'\n",
    "}\n",
    "\n",
    "plt.figure(figsize=(10,7))\n",
    "for i, court in enumerate(court_len):\n",
    "    plt.bar(i, court[1], color=court_color_dict[court[0]])\n",
    "\n",
    "plt.title(\"Average word count by Court\")\n",
    "#plt.xlabel(\"Court\")\n",
    "plt.ylabel(\"Average Length (Words)\")\n",
    "plt.xticks(list(range(0,len(court_len))), [x[0] for x in court_len])\n",
    "locations, labels = plt.xticks()\n",
    "plt.setp(labels, rotation=5)\n",
    "\n",
    "plt.show()"
   ]
  },
  {
   "cell_type": "markdown",
   "id": "fbc71002",
   "metadata": {},
   "source": [
    "## Unigrams"
   ]
  },
  {
   "cell_type": "code",
   "execution_count": 21,
   "id": "71f804c5",
   "metadata": {},
   "outputs": [
    {
     "data": {
      "text/html": [
       "<div>\n",
       "<style scoped>\n",
       "    .dataframe tbody tr th:only-of-type {\n",
       "        vertical-align: middle;\n",
       "    }\n",
       "\n",
       "    .dataframe tbody tr th {\n",
       "        vertical-align: top;\n",
       "    }\n",
       "\n",
       "    .dataframe thead th {\n",
       "        text-align: right;\n",
       "    }\n",
       "</style>\n",
       "<table border=\"1\" class=\"dataframe\">\n",
       "  <thead>\n",
       "    <tr style=\"text-align: right;\">\n",
       "      <th></th>\n",
       "      <th>id</th>\n",
       "      <th>name</th>\n",
       "      <th>decision_date</th>\n",
       "      <th>court</th>\n",
       "      <th>citations</th>\n",
       "      <th>author</th>\n",
       "      <th>type</th>\n",
       "      <th>text</th>\n",
       "    </tr>\n",
       "  </thead>\n",
       "  <tbody>\n",
       "    <tr>\n",
       "      <th>0</th>\n",
       "      <td>17491</td>\n",
       "      <td>STATE of New Mexico, Plaintiff-Appellee, v. Lo...</td>\n",
       "      <td>1997</td>\n",
       "      <td>Supreme Court of New Mexico</td>\n",
       "      <td>124 N.M. 388</td>\n",
       "      <td>MINZNER, Justice.</td>\n",
       "      <td>majority</td>\n",
       "      <td>OPINION\\nMINZNER, Justice.\\n(1)Defendant Lonni...</td>\n",
       "    </tr>\n",
       "    <tr>\n",
       "      <th>1</th>\n",
       "      <td>17129</td>\n",
       "      <td>STATE of New Mexico, ex rel. CHILDREN, YOUTH A...</td>\n",
       "      <td>1998</td>\n",
       "      <td>Court of Appeals of New Mexico</td>\n",
       "      <td>124 N.M. 735</td>\n",
       "      <td>WECHSLER, Judge.</td>\n",
       "      <td>majority</td>\n",
       "      <td>OPINION\\nWECHSLER, Judge.\\n1. As a result of a...</td>\n",
       "    </tr>\n",
       "    <tr>\n",
       "      <th>2</th>\n",
       "      <td>18630</td>\n",
       "      <td>Caye C. BUCKINGHAM, Plaintiff-Appellant, v. Ja...</td>\n",
       "      <td>1997</td>\n",
       "      <td>Court of Appeals of New Mexico</td>\n",
       "      <td>124 N.M. 498</td>\n",
       "      <td>PICKARD, Judge.</td>\n",
       "      <td>majority</td>\n",
       "      <td>OPINION\\nPICKARD, Judge.\\n¶ 1 This case requir...</td>\n",
       "    </tr>\n",
       "    <tr>\n",
       "      <th>3</th>\n",
       "      <td>18319</td>\n",
       "      <td>STATE of New Mexico ex rel. Alan E. WHITEHEAD,...</td>\n",
       "      <td>1997</td>\n",
       "      <td>Court of Appeals of New Mexico</td>\n",
       "      <td>124 N.M. 375</td>\n",
       "      <td>BOSSON, Judge.</td>\n",
       "      <td>majority</td>\n",
       "      <td>OPINION\\nBOSSON, Judge.\\n1. Article II, Sectio...</td>\n",
       "    </tr>\n",
       "    <tr>\n",
       "      <th>4</th>\n",
       "      <td>17318</td>\n",
       "      <td>STATE of New Mexico, Plaintiff-Appellee, v. Sa...</td>\n",
       "      <td>1997</td>\n",
       "      <td>Court of Appeals of New Mexico</td>\n",
       "      <td>124 N.M. 211</td>\n",
       "      <td>PICKARD, Judge.</td>\n",
       "      <td>majority</td>\n",
       "      <td>OPINION\\nPICKARD, Judge.\\n1. Defendant appeals...</td>\n",
       "    </tr>\n",
       "  </tbody>\n",
       "</table>\n",
       "</div>"
      ],
      "text/plain": [
       "      id                                               name  decision_date  \\\n",
       "0  17491  STATE of New Mexico, Plaintiff-Appellee, v. Lo...           1997   \n",
       "1  17129  STATE of New Mexico, ex rel. CHILDREN, YOUTH A...           1998   \n",
       "2  18630  Caye C. BUCKINGHAM, Plaintiff-Appellant, v. Ja...           1997   \n",
       "3  18319  STATE of New Mexico ex rel. Alan E. WHITEHEAD,...           1997   \n",
       "4  17318  STATE of New Mexico, Plaintiff-Appellee, v. Sa...           1997   \n",
       "\n",
       "                            court     citations             author      type  \\\n",
       "0     Supreme Court of New Mexico  124 N.M. 388  MINZNER, Justice.  majority   \n",
       "1  Court of Appeals of New Mexico  124 N.M. 735   WECHSLER, Judge.  majority   \n",
       "2  Court of Appeals of New Mexico  124 N.M. 498    PICKARD, Judge.  majority   \n",
       "3  Court of Appeals of New Mexico  124 N.M. 375     BOSSON, Judge.  majority   \n",
       "4  Court of Appeals of New Mexico  124 N.M. 211    PICKARD, Judge.  majority   \n",
       "\n",
       "                                                text  \n",
       "0  OPINION\\nMINZNER, Justice.\\n(1)Defendant Lonni...  \n",
       "1  OPINION\\nWECHSLER, Judge.\\n1. As a result of a...  \n",
       "2  OPINION\\nPICKARD, Judge.\\n¶ 1 This case requir...  \n",
       "3  OPINION\\nBOSSON, Judge.\\n1. Article II, Sectio...  \n",
       "4  OPINION\\nPICKARD, Judge.\\n1. Defendant appeals...  "
      ]
     },
     "execution_count": 21,
     "metadata": {},
     "output_type": "execute_result"
    }
   ],
   "source": [
    "#Loop through cases and build rows with case metadata AND opinion metadata/text.\n",
    "#We load in all of the keys initially, then modify the ones we want to.\n",
    "\n",
    "opinion_data = []\n",
    "for case in cases:\n",
    "    for opinion in case[\"casebody\"][\"data\"][\"opinions\"]:\n",
    "        temp = {}\n",
    "        keys = list(case.keys())\n",
    "        keys.remove('casebody')\n",
    "        for key in keys:         \n",
    "            temp[key] = case[key]\n",
    "        keys = list(opinion.keys())\n",
    "        for key in keys:         \n",
    "            temp[key] = opinion[key]\n",
    "        opinion_data.append(temp)\n",
    "\n",
    "opinions_df = pd.DataFrame(opinion_data)\n",
    "opinions_df[\"citations\"] = opinions_df[\"citations\"].apply(lambda x:x[0]['cite'])\n",
    "opinions_df[\"court\"] = opinions_df[\"court\"].apply(lambda x:x['name'])\n",
    "opinions_df[\"decision_date\"] = opinions_df[\"decision_date\"].apply(lambda x:int(x[:4]))\n",
    "opinions_df = opinions_df.drop([\"docket_number\", \"first_page\", \n",
    "                                \"last_page\", \"name_abbreviation\",\n",
    "                                \"reporter\", \"volume\", \"jurisdiction\"], axis=1)\n",
    "opinions_df = opinions_df[[\"id\", \"name\", \"decision_date\", \"court\", \"citations\", \"author\", \"type\", \"text\"]]\n",
    "\n",
    "opinions_df.head()"
   ]
  },
  {
   "cell_type": "code",
   "execution_count": 22,
   "id": "d9430a5a",
   "metadata": {},
   "outputs": [
    {
     "name": "stdout",
     "output_type": "stream",
     "text": [
      "There is a total of 48447582 words.\n",
      "The term Telephone occurs 3573 times.\n",
      "The term Computer occurs 1704 times.\n",
      "The term Robbery occurs 3110 times.\n",
      "The term Evidence occurs 135891 times.\n"
     ]
    },
    {
     "data": {
      "image/png": "[encoded data removed]",
      "text/plain": [
       "<Figure size 1080x576 with 4 Axes>"
      ]
     },
     "metadata": {
      "needs_background": "light"
     },
     "output_type": "display_data"
    }
   ],
   "source": [
    "def search_ngram(ngram):\n",
    "    pairs = []\n",
    "    tot = 0\n",
    "    n_tot = 0\n",
    "    for year in opinions_df[\"decision_date\"].unique():\n",
    "        temp = opinions_df[opinions_df[\"decision_date\"] == year][\"text\"].tolist()\n",
    "        temp = \" \".join(temp).lower()\n",
    "        n = len(temp.split(\" \"))\n",
    "        ngram_count = temp.count(ngram.lower())\n",
    "        pairs.append((year, ngram_count/n))\n",
    "        tot += ngram_count\n",
    "        n_tot += n\n",
    "    return pairs, tot, n_tot\n",
    "\n",
    "def graph_ngram(pairs, ax, title):\n",
    "    x,y = [list(x) for x in zip(*pairs)]\n",
    "    ax.scatter(x,y, s=1)\n",
    "    ax.set_title(title)\n",
    "    ax.set_xlabel(\"Year\")\n",
    "    ax.set_ylabel(\"Fraction of words\")\n",
    "    return ax\n",
    "\n",
    "\n",
    "fig, axes = plt.subplots(2, 2, figsize=(15,8))\n",
    "word1 = search_ngram(\"telephone\")\n",
    "word2 = search_ngram(\"computer\")\n",
    "word3 = search_ngram(\"robbery\")\n",
    "word4 = search_ngram(\"evidence\")\n",
    "#word5 = search_ngram(\"opinion\")\n",
    "#word6 = search_ngram(\"cowboy\")\n",
    "\n",
    "graph_ngram(word1[0], axes[0,0], \"Telephone\")\n",
    "graph_ngram(word2[0], axes[0,1], \"Computer\")\n",
    "graph_ngram(word3[0], axes[1,0], \"Robbery\")\n",
    "graph_ngram(word4[0], axes[1,1], \"Evidence\")\n",
    "#graph_ngram(word5[0], axes[2,0], \"Opinion\")\n",
    "#graph_ngram(word6[0], axes[2,1], \"Cowboy\")\n",
    "\n",
    "print(f'There is a total of {word2[2]} words.')\n",
    "print(f'The term Telephone occurs {word1[1]} times.')\n",
    "print(f'The term Computer occurs {word2[1]} times.')\n",
    "print(f'The term Robbery occurs {word3[1]} times.')\n",
    "print(f'The term Evidence occurs {word4[1]} times.')\n",
    "#print(f'The term Sheriff occurs {word5[1]} times.')\n",
    "#print(f'The term Cowboy occurs {word6[1]} times.')\n",
    "\n",
    "\n",
    "plt.tight_layout()\n",
    "plt.show()"
   ]
  }
 ],
 "metadata": {
  "colab": {
   "provenance": []
  },
  "kernelspec": {
   "display_name": "Python 3 (ipykernel)",
   "language": "python",
   "name": "python3"
  },
  "language_info": {
   "codemirror_mode": {
    "name": "ipython",
    "version": 3
   },
   "file_extension": ".py",
   "mimetype": "text/x-python",
   "name": "python",
   "nbconvert_exporter": "python",
   "pygments_lexer": "ipython3",
   "version": "3.9.6"
  }
 },
 "nbformat": 4,
 "nbformat_minor": 5
}
